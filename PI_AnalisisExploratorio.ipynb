{
 "cells": [
  {
   "cell_type": "code",
   "execution_count": 78,
   "id": "e12c191d",
   "metadata": {
    "ExecuteTime": {
     "end_time": "2024-01-27T20:08:59.816667Z",
     "start_time": "2024-01-27T20:08:59.809668Z"
    }
   },
   "outputs": [],
   "source": [
    "# Cargar Librerias Generales\n",
    "import numpy as np\n",
    "import pandas as pd"
   ]
  },
  {
   "cell_type": "code",
   "execution_count": 79,
   "id": "5aeddf7b",
   "metadata": {
    "ExecuteTime": {
     "end_time": "2024-01-27T20:08:59.847667Z",
     "start_time": "2024-01-27T20:08:59.819670Z"
    }
   },
   "outputs": [
    {
     "name": "stderr",
     "output_type": "stream",
     "text": [
      "C:\\Users\\Carlos\\AppData\\Local\\Temp\\ipykernel_1664\\287536555.py:11: FutureWarning: The default value of regex will change from True to False in a future version.\n",
      "  file_df['name'] = file_df['name'].str.replace(pattern, '')\n"
     ]
    },
    {
     "data": {
      "text/html": [
       "<div>\n",
       "<style scoped>\n",
       "    .dataframe tbody tr th:only-of-type {\n",
       "        vertical-align: middle;\n",
       "    }\n",
       "\n",
       "    .dataframe tbody tr th {\n",
       "        vertical-align: top;\n",
       "    }\n",
       "\n",
       "    .dataframe thead th {\n",
       "        text-align: right;\n",
       "    }\n",
       "</style>\n",
       "<table border=\"1\" class=\"dataframe\">\n",
       "  <thead>\n",
       "    <tr style=\"text-align: right;\">\n",
       "      <th></th>\n",
       "      <th>name</th>\n",
       "      <th>stock</th>\n",
       "    </tr>\n",
       "    <tr>\n",
       "      <th>ind</th>\n",
       "      <th></th>\n",
       "      <th></th>\n",
       "    </tr>\n",
       "  </thead>\n",
       "  <tbody>\n",
       "    <tr>\n",
       "      <th>-2</th>\n",
       "      <td>FEDFUNDS</td>\n",
       "      <td>FEDFUNDS</td>\n",
       "    </tr>\n",
       "    <tr>\n",
       "      <th>-1</th>\n",
       "      <td>UNRATE</td>\n",
       "      <td>UNRATE</td>\n",
       "    </tr>\n",
       "    <tr>\n",
       "      <th>0</th>\n",
       "      <td>NASDAQ 100</td>\n",
       "      <td>^NDX</td>\n",
       "    </tr>\n",
       "    <tr>\n",
       "      <th>1</th>\n",
       "      <td>Apple Inc.</td>\n",
       "      <td>AAPL</td>\n",
       "    </tr>\n",
       "    <tr>\n",
       "      <th>2</th>\n",
       "      <td>Microsoft Corporation</td>\n",
       "      <td>MSFT</td>\n",
       "    </tr>\n",
       "    <tr>\n",
       "      <th>3</th>\n",
       "      <td>Amazon.com, Inc.</td>\n",
       "      <td>AMZN</td>\n",
       "    </tr>\n",
       "    <tr>\n",
       "      <th>4</th>\n",
       "      <td>NVIDIA Corporation</td>\n",
       "      <td>NVDA</td>\n",
       "    </tr>\n",
       "    <tr>\n",
       "      <th>5</th>\n",
       "      <td>Meta Platforms, Inc.</td>\n",
       "      <td>META</td>\n",
       "    </tr>\n",
       "    <tr>\n",
       "      <th>6</th>\n",
       "      <td>Broadcom Inc.</td>\n",
       "      <td>AVGO</td>\n",
       "    </tr>\n",
       "    <tr>\n",
       "      <th>7</th>\n",
       "      <td>Tesla, Inc.</td>\n",
       "      <td>TSLA</td>\n",
       "    </tr>\n",
       "    <tr>\n",
       "      <th>8</th>\n",
       "      <td>Alphabet Inc.</td>\n",
       "      <td>GOOG</td>\n",
       "    </tr>\n",
       "    <tr>\n",
       "      <th>9</th>\n",
       "      <td>Alphabet Inc.</td>\n",
       "      <td>GOOGL</td>\n",
       "    </tr>\n",
       "    <tr>\n",
       "      <th>10</th>\n",
       "      <td>Adobe Inc.</td>\n",
       "      <td>ADBE</td>\n",
       "    </tr>\n",
       "  </tbody>\n",
       "</table>\n",
       "</div>"
      ],
      "text/plain": [
       "                       name     stock\n",
       "ind                                  \n",
       "-2                FEDFUNDS   FEDFUNDS\n",
       "-1                  UNRATE     UNRATE\n",
       " 0              NASDAQ 100       ^NDX\n",
       " 1              Apple Inc.       AAPL\n",
       " 2   Microsoft Corporation       MSFT\n",
       " 3        Amazon.com, Inc.       AMZN\n",
       " 4      NVIDIA Corporation       NVDA\n",
       " 5    Meta Platforms, Inc.       META\n",
       " 6           Broadcom Inc.       AVGO\n",
       " 7             Tesla, Inc.       TSLA\n",
       " 8           Alphabet Inc.       GOOG\n",
       " 9           Alphabet Inc.      GOOGL\n",
       " 10             Adobe Inc.       ADBE"
      ]
     },
     "execution_count": 79,
     "metadata": {},
     "output_type": "execute_result"
    }
   ],
   "source": [
    "# Cargar lista de insumos\n",
    "dir = 'raw_data/'\n",
    "file = 'files_list.csv'\n",
    "\n",
    "file_df = pd.read_csv(dir + file, index_col='ind')\n",
    "\n",
    "#Separar códigos bursátiles\n",
    "pattern = r'\\((.*?)\\)'\n",
    "\n",
    "file_df['stock'] = file_df['name'].str.extract(pattern)\n",
    "file_df['name'] = file_df['name'].str.replace(pattern, '')\n",
    "\n",
    "# Seleccionar el top de empresas a usar (siempre cargar negativos y 0)\n",
    "top_n = 10\n",
    "\n",
    "file_df = file_df[file_df.index < top_n + 1]\n",
    "file_df"
   ]
  },
  {
   "cell_type": "code",
   "execution_count": 80,
   "id": "f0459c58",
   "metadata": {
    "ExecuteTime": {
     "end_time": "2024-01-27T20:08:59.987166Z",
     "start_time": "2024-01-27T20:08:59.850169Z"
    }
   },
   "outputs": [
    {
     "data": {
      "text/plain": [
       "dict_keys(['FEDFUNDS_DF', 'UNRATE_DF', '^NDX_DF', 'AAPL_DF', 'MSFT_DF', 'AMZN_DF', 'NVDA_DF', 'META_DF', 'AVGO_DF', 'TSLA_DF', 'GOOG_DF', 'GOOGL_DF', 'ADBE_DF'])"
      ]
     },
     "execution_count": 80,
     "metadata": {},
     "output_type": "execute_result"
    }
   ],
   "source": [
    "# Cargar archivos en dataframe y gardarlos en diccionario\n",
    "stocks_dict = {}\n",
    "\n",
    "for f in file_df['stock']:\n",
    "    file = f + '.csv'\n",
    "    df_name = f + '_DF'\n",
    "    df = pd.read_csv(dir + file)\n",
    "    stocks_dict[df_name] = df\n",
    "    \n",
    "stocks_dict.keys()"
   ]
  },
  {
   "cell_type": "code",
   "execution_count": 81,
   "id": "b15fa2d3",
   "metadata": {
    "ExecuteTime": {
     "end_time": "2024-01-27T20:09:03.033076Z",
     "start_time": "2024-01-27T20:09:03.013076Z"
    }
   },
   "outputs": [
    {
     "name": "stderr",
     "output_type": "stream",
     "text": [
      "C:\\Users\\Carlos\\AppData\\Local\\Temp\\ipykernel_1664\\1757273587.py:5: DeprecationWarning: In a future version, `df.iloc[:, i] = newvals` will attempt to set the values inplace instead of always setting a new array. To retain the old behavior, use either `df[df.columns[i]] = newvals` or, if columns are non-unique, `df.isetitem(i, newvals)`\n",
      "  stocks_dict[i].iloc[:,0] = pd.to_datetime(stocks_dict[i].iloc[:,0], format='%m/%d/%Y')\n",
      "C:\\Users\\Carlos\\AppData\\Local\\Temp\\ipykernel_1664\\1757273587.py:6: DeprecationWarning: In a future version, `df.iloc[:, i] = newvals` will attempt to set the values inplace instead of always setting a new array. To retain the old behavior, use either `df[df.columns[i]] = newvals` or, if columns are non-unique, `df.isetitem(i, newvals)`\n",
      "  stocks_dict[i].iloc[:,0] = stocks_dict[i].iloc[:,0].dt.strftime('%Y-%m-%d')\n",
      "C:\\Users\\Carlos\\AppData\\Local\\Temp\\ipykernel_1664\\1757273587.py:5: DeprecationWarning: In a future version, `df.iloc[:, i] = newvals` will attempt to set the values inplace instead of always setting a new array. To retain the old behavior, use either `df[df.columns[i]] = newvals` or, if columns are non-unique, `df.isetitem(i, newvals)`\n",
      "  stocks_dict[i].iloc[:,0] = pd.to_datetime(stocks_dict[i].iloc[:,0], format='%m/%d/%Y')\n",
      "C:\\Users\\Carlos\\AppData\\Local\\Temp\\ipykernel_1664\\1757273587.py:6: DeprecationWarning: In a future version, `df.iloc[:, i] = newvals` will attempt to set the values inplace instead of always setting a new array. To retain the old behavior, use either `df[df.columns[i]] = newvals` or, if columns are non-unique, `df.isetitem(i, newvals)`\n",
      "  stocks_dict[i].iloc[:,0] = stocks_dict[i].iloc[:,0].dt.strftime('%Y-%m-%d')\n"
     ]
    }
   ],
   "source": [
    "# Parsear formato de fechas para FEDFUNDS y UNRATE\n",
    "parse = ['FEDFUNDS_DF', 'UNRATE_DF']\n",
    "\n",
    "for i in parse:\n",
    "    stocks_dict[i].iloc[:,0] = pd.to_datetime(stocks_dict[i].iloc[:,0], format='%m/%d/%Y')\n",
    "    stocks_dict[i].iloc[:,0] = stocks_dict[i].iloc[:,0].dt.strftime('%Y-%m-%d')"
   ]
  },
  {
   "cell_type": "code",
   "execution_count": 84,
   "id": "455d05e1",
   "metadata": {
    "ExecuteTime": {
     "end_time": "2024-01-27T20:10:01.310894Z",
     "start_time": "2024-01-27T20:10:01.298897Z"
    }
   },
   "outputs": [
    {
     "data": {
      "text/html": [
       "<div>\n",
       "<style scoped>\n",
       "    .dataframe tbody tr th:only-of-type {\n",
       "        vertical-align: middle;\n",
       "    }\n",
       "\n",
       "    .dataframe tbody tr th {\n",
       "        vertical-align: top;\n",
       "    }\n",
       "\n",
       "    .dataframe thead th {\n",
       "        text-align: right;\n",
       "    }\n",
       "</style>\n",
       "<table border=\"1\" class=\"dataframe\">\n",
       "  <thead>\n",
       "    <tr style=\"text-align: right;\">\n",
       "      <th></th>\n",
       "      <th>DATE</th>\n",
       "      <th>FEDFUNDS</th>\n",
       "    </tr>\n",
       "  </thead>\n",
       "  <tbody>\n",
       "    <tr>\n",
       "      <th>0</th>\n",
       "      <td>1954-01-07</td>\n",
       "      <td>0.80</td>\n",
       "    </tr>\n",
       "    <tr>\n",
       "      <th>1</th>\n",
       "      <td>1954-01-08</td>\n",
       "      <td>1.22</td>\n",
       "    </tr>\n",
       "    <tr>\n",
       "      <th>2</th>\n",
       "      <td>1954-01-09</td>\n",
       "      <td>1.07</td>\n",
       "    </tr>\n",
       "    <tr>\n",
       "      <th>3</th>\n",
       "      <td>1954-01-10</td>\n",
       "      <td>0.85</td>\n",
       "    </tr>\n",
       "    <tr>\n",
       "      <th>4</th>\n",
       "      <td>1954-01-11</td>\n",
       "      <td>0.83</td>\n",
       "    </tr>\n",
       "    <tr>\n",
       "      <th>...</th>\n",
       "      <td>...</td>\n",
       "      <td>...</td>\n",
       "    </tr>\n",
       "    <tr>\n",
       "      <th>829</th>\n",
       "      <td>2023-01-08</td>\n",
       "      <td>5.33</td>\n",
       "    </tr>\n",
       "    <tr>\n",
       "      <th>830</th>\n",
       "      <td>2023-01-09</td>\n",
       "      <td>5.33</td>\n",
       "    </tr>\n",
       "    <tr>\n",
       "      <th>831</th>\n",
       "      <td>2023-01-10</td>\n",
       "      <td>5.33</td>\n",
       "    </tr>\n",
       "    <tr>\n",
       "      <th>832</th>\n",
       "      <td>2023-01-11</td>\n",
       "      <td>5.33</td>\n",
       "    </tr>\n",
       "    <tr>\n",
       "      <th>833</th>\n",
       "      <td>2023-01-12</td>\n",
       "      <td>5.33</td>\n",
       "    </tr>\n",
       "  </tbody>\n",
       "</table>\n",
       "<p>834 rows × 2 columns</p>\n",
       "</div>"
      ],
      "text/plain": [
       "           DATE  FEDFUNDS\n",
       "0    1954-01-07      0.80\n",
       "1    1954-01-08      1.22\n",
       "2    1954-01-09      1.07\n",
       "3    1954-01-10      0.85\n",
       "4    1954-01-11      0.83\n",
       "..          ...       ...\n",
       "829  2023-01-08      5.33\n",
       "830  2023-01-09      5.33\n",
       "831  2023-01-10      5.33\n",
       "832  2023-01-11      5.33\n",
       "833  2023-01-12      5.33\n",
       "\n",
       "[834 rows x 2 columns]"
      ]
     },
     "execution_count": 84,
     "metadata": {},
     "output_type": "execute_result"
    }
   ],
   "source": [
    "# Visualización de los dataframe\n",
    "stocks_dict['FEDFUNDS_DF']"
   ]
  },
  {
   "cell_type": "code",
   "execution_count": null,
   "id": "20e4914a",
   "metadata": {},
   "outputs": [],
   "source": [
    "# Cargar archivos\n",
    "\n",
    "import os\n",
    "\n",
    "\n"
   ]
  }
 ],
 "metadata": {
  "kernelspec": {
   "display_name": "Python 3 (ipykernel)",
   "language": "python",
   "name": "python3"
  },
  "language_info": {
   "codemirror_mode": {
    "name": "ipython",
    "version": 3
   },
   "file_extension": ".py",
   "mimetype": "text/x-python",
   "name": "python",
   "nbconvert_exporter": "python",
   "pygments_lexer": "ipython3",
   "version": "3.9.16"
  },
  "varInspector": {
   "cols": {
    "lenName": 16,
    "lenType": 16,
    "lenVar": 40
   },
   "kernels_config": {
    "python": {
     "delete_cmd_postfix": "",
     "delete_cmd_prefix": "del ",
     "library": "var_list.py",
     "varRefreshCmd": "print(var_dic_list())"
    },
    "r": {
     "delete_cmd_postfix": ") ",
     "delete_cmd_prefix": "rm(",
     "library": "var_list.r",
     "varRefreshCmd": "cat(var_dic_list()) "
    }
   },
   "types_to_exclude": [
    "module",
    "function",
    "builtin_function_or_method",
    "instance",
    "_Feature"
   ],
   "window_display": false
  }
 },
 "nbformat": 4,
 "nbformat_minor": 5
}
