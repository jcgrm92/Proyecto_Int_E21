{
 "cells": [
  {
   "cell_type": "code",
   "execution_count": 1,
   "id": "e12c191d",
   "metadata": {
    "ExecuteTime": {
     "end_time": "2024-02-26T05:26:24.347298Z",
     "start_time": "2024-02-26T05:26:18.485797Z"
    },
    "id": "e12c191d"
   },
   "outputs": [],
   "source": [
    "# Cargar Librerias Generales\n",
    "import numpy as np\n",
    "import pandas as pd\n",
    "import matplotlib.pyplot as plt\n",
    "import seaborn as sns\n",
    "import random\n",
    "import warnings\n",
    "\n",
    "import tensorflow as tf\n",
    "from tensorflow.keras.models import Sequential\n",
    "from tensorflow.keras.layers import LSTM, Dense, Dropout\n",
    "from sklearn.model_selection import train_test_split\n",
    "\n",
    "from scipy.stats import skew\n",
    "\n",
    "from sklearn.pipeline import Pipeline\n",
    "from sklearn.compose import ColumnTransformer\n",
    "from sklearn.model_selection import cross_val_score\n",
    "from sklearn.model_selection import RepeatedStratifiedKFold\n",
    "\n",
    "from sklearn.model_selection import GridSearchCV\n",
    "\n",
    "from sklearn.naive_bayes import GaussianNB\n",
    "from sklearn.ensemble import GradientBoostingClassifier\n",
    "\n",
    "from sklearn.ensemble import RandomForestClassifier\n",
    "from sklearn.model_selection import TimeSeriesSplit\n",
    "from sklearn.feature_selection import VarianceThreshold\n",
    "from sklearn.feature_selection import RFE\n",
    "from sklearn.preprocessing import MinMaxScaler\n",
    "from sklearn.linear_model import LogisticRegression\n",
    "from sklearn.tree import DecisionTreeClassifier\n",
    "from sklearn.neural_network import MLPClassifier\n",
    "from sklearn.neighbors import KNeighborsClassifier\n",
    "from sklearn.svm import SVC\n",
    "from sklearn.neighbors import KNeighborsRegressor\n",
    "from sklearn.linear_model import LinearRegression, Lasso, Ridge, ElasticNet\n",
    "from sklearn.metrics import mean_squared_error, r2_score\n",
    "from sklearn.metrics import classification_report, roc_curve, auc, mean_absolute_error\n",
    "from sklearn.metrics import confusion_matrix\n",
    "from sklearn.metrics import precision_score\n",
    "from sklearn.metrics import accuracy_score\n",
    "from sklearn.preprocessing import StandardScaler\n",
    "from tensorflow.keras.optimizers import Adam"
   ]
  },
  {
   "cell_type": "markdown",
   "id": "0007e849",
   "metadata": {
    "heading_collapsed": true,
    "id": "0007e849"
   },
   "source": [
    "# Carga de datos"
   ]
  },
  {
   "cell_type": "code",
   "execution_count": 2,
   "id": "5aeddf7b",
   "metadata": {
    "ExecuteTime": {
     "end_time": "2024-02-26T05:26:24.378298Z",
     "start_time": "2024-02-26T05:26:24.350801Z"
    },
    "colab": {
     "base_uri": "https://localhost:8080/",
     "height": 523
    },
    "hidden": true,
    "id": "5aeddf7b",
    "outputId": "1926fbf4-3be9-4ce3-a07a-02bf18786f8f"
   },
   "outputs": [
    {
     "name": "stderr",
     "output_type": "stream",
     "text": [
      "C:\\Users\\Carlos\\AppData\\Local\\Temp\\ipykernel_8844\\2252273142.py:11: FutureWarning: The default value of regex will change from True to False in a future version.\n",
      "  file_df['name'] = file_df['name'].str.replace(pattern, '')\n"
     ]
    },
    {
     "data": {
      "text/html": [
       "<div>\n",
       "<style scoped>\n",
       "    .dataframe tbody tr th:only-of-type {\n",
       "        vertical-align: middle;\n",
       "    }\n",
       "\n",
       "    .dataframe tbody tr th {\n",
       "        vertical-align: top;\n",
       "    }\n",
       "\n",
       "    .dataframe thead th {\n",
       "        text-align: right;\n",
       "    }\n",
       "</style>\n",
       "<table border=\"1\" class=\"dataframe\">\n",
       "  <thead>\n",
       "    <tr style=\"text-align: right;\">\n",
       "      <th></th>\n",
       "      <th>name</th>\n",
       "      <th>stock</th>\n",
       "    </tr>\n",
       "    <tr>\n",
       "      <th>ind</th>\n",
       "      <th></th>\n",
       "      <th></th>\n",
       "    </tr>\n",
       "  </thead>\n",
       "  <tbody>\n",
       "    <tr>\n",
       "      <th>-2</th>\n",
       "      <td>FEDFUNDS</td>\n",
       "      <td>FEDFUNDS</td>\n",
       "    </tr>\n",
       "    <tr>\n",
       "      <th>-1</th>\n",
       "      <td>UNRATE</td>\n",
       "      <td>UNRATE</td>\n",
       "    </tr>\n",
       "    <tr>\n",
       "      <th>0</th>\n",
       "      <td>NASDAQ 100</td>\n",
       "      <td>^NDX</td>\n",
       "    </tr>\n",
       "    <tr>\n",
       "      <th>1</th>\n",
       "      <td>Apple Inc.</td>\n",
       "      <td>AAPL</td>\n",
       "    </tr>\n",
       "    <tr>\n",
       "      <th>2</th>\n",
       "      <td>Microsoft Corporation</td>\n",
       "      <td>MSFT</td>\n",
       "    </tr>\n",
       "    <tr>\n",
       "      <th>3</th>\n",
       "      <td>Amazon.com, Inc.</td>\n",
       "      <td>AMZN</td>\n",
       "    </tr>\n",
       "    <tr>\n",
       "      <th>4</th>\n",
       "      <td>NVIDIA Corporation</td>\n",
       "      <td>NVDA</td>\n",
       "    </tr>\n",
       "    <tr>\n",
       "      <th>5</th>\n",
       "      <td>Meta Platforms, Inc.</td>\n",
       "      <td>META</td>\n",
       "    </tr>\n",
       "    <tr>\n",
       "      <th>6</th>\n",
       "      <td>Broadcom Inc.</td>\n",
       "      <td>AVGO</td>\n",
       "    </tr>\n",
       "    <tr>\n",
       "      <th>7</th>\n",
       "      <td>Tesla, Inc.</td>\n",
       "      <td>TSLA</td>\n",
       "    </tr>\n",
       "    <tr>\n",
       "      <th>8</th>\n",
       "      <td>Alphabet Inc.</td>\n",
       "      <td>GOOG</td>\n",
       "    </tr>\n",
       "    <tr>\n",
       "      <th>9</th>\n",
       "      <td>Alphabet Inc.</td>\n",
       "      <td>GOOGL</td>\n",
       "    </tr>\n",
       "    <tr>\n",
       "      <th>10</th>\n",
       "      <td>Adobe Inc.</td>\n",
       "      <td>ADBE</td>\n",
       "    </tr>\n",
       "    <tr>\n",
       "      <th>11</th>\n",
       "      <td>PepsiCo, Inc.</td>\n",
       "      <td>PEP</td>\n",
       "    </tr>\n",
       "    <tr>\n",
       "      <th>12</th>\n",
       "      <td>Costco Wholesale Corporation</td>\n",
       "      <td>COST</td>\n",
       "    </tr>\n",
       "    <tr>\n",
       "      <th>13</th>\n",
       "      <td>Cisco Systems, Inc.</td>\n",
       "      <td>CSCO</td>\n",
       "    </tr>\n",
       "    <tr>\n",
       "      <th>14</th>\n",
       "      <td>Comcast Corporation</td>\n",
       "      <td>CMCSA</td>\n",
       "    </tr>\n",
       "    <tr>\n",
       "      <th>15</th>\n",
       "      <td>Netflix, Inc.</td>\n",
       "      <td>NFLX</td>\n",
       "    </tr>\n",
       "    <tr>\n",
       "      <th>16</th>\n",
       "      <td>Advanced Micro Devices, Inc.</td>\n",
       "      <td>AMD</td>\n",
       "    </tr>\n",
       "    <tr>\n",
       "      <th>17</th>\n",
       "      <td>T-Mobile US, Inc.</td>\n",
       "      <td>TMUS</td>\n",
       "    </tr>\n",
       "    <tr>\n",
       "      <th>18</th>\n",
       "      <td>Texas Instruments Incorporated</td>\n",
       "      <td>TXN</td>\n",
       "    </tr>\n",
       "    <tr>\n",
       "      <th>19</th>\n",
       "      <td>Intuit Inc.</td>\n",
       "      <td>INTU</td>\n",
       "    </tr>\n",
       "    <tr>\n",
       "      <th>20</th>\n",
       "      <td>Intel Corporation</td>\n",
       "      <td>INTC</td>\n",
       "    </tr>\n",
       "    <tr>\n",
       "      <th>21</th>\n",
       "      <td>Amgen Inc.</td>\n",
       "      <td>AMGN</td>\n",
       "    </tr>\n",
       "    <tr>\n",
       "      <th>22</th>\n",
       "      <td>Applied Materials, Inc.</td>\n",
       "      <td>AMAT</td>\n",
       "    </tr>\n",
       "    <tr>\n",
       "      <th>23</th>\n",
       "      <td>QUALCOMM Incorporated</td>\n",
       "      <td>QCOM</td>\n",
       "    </tr>\n",
       "    <tr>\n",
       "      <th>24</th>\n",
       "      <td>Honeywell International Inc.</td>\n",
       "      <td>HON</td>\n",
       "    </tr>\n",
       "    <tr>\n",
       "      <th>25</th>\n",
       "      <td>Booking Holdings Inc.</td>\n",
       "      <td>BKNG</td>\n",
       "    </tr>\n",
       "    <tr>\n",
       "      <th>26</th>\n",
       "      <td>Starbucks Corporation</td>\n",
       "      <td>SBUX</td>\n",
       "    </tr>\n",
       "    <tr>\n",
       "      <th>27</th>\n",
       "      <td>Intuitive Surgical, Inc.</td>\n",
       "      <td>ISRG</td>\n",
       "    </tr>\n",
       "    <tr>\n",
       "      <th>28</th>\n",
       "      <td>Automatic Data Processing, Inc.</td>\n",
       "      <td>ADP</td>\n",
       "    </tr>\n",
       "    <tr>\n",
       "      <th>29</th>\n",
       "      <td>Mondelez International, Inc.</td>\n",
       "      <td>MDLZ</td>\n",
       "    </tr>\n",
       "    <tr>\n",
       "      <th>30</th>\n",
       "      <td>Gilead Sciences, Inc.</td>\n",
       "      <td>GILD</td>\n",
       "    </tr>\n",
       "  </tbody>\n",
       "</table>\n",
       "</div>"
      ],
      "text/plain": [
       "                                 name     stock\n",
       "ind                                            \n",
       "-2                          FEDFUNDS   FEDFUNDS\n",
       "-1                            UNRATE     UNRATE\n",
       " 0                        NASDAQ 100       ^NDX\n",
       " 1                        Apple Inc.       AAPL\n",
       " 2             Microsoft Corporation       MSFT\n",
       " 3                  Amazon.com, Inc.       AMZN\n",
       " 4                NVIDIA Corporation       NVDA\n",
       " 5              Meta Platforms, Inc.       META\n",
       " 6                     Broadcom Inc.       AVGO\n",
       " 7                       Tesla, Inc.       TSLA\n",
       " 8                     Alphabet Inc.       GOOG\n",
       " 9                     Alphabet Inc.      GOOGL\n",
       " 10                       Adobe Inc.       ADBE\n",
       " 11                    PepsiCo, Inc.        PEP\n",
       " 12     Costco Wholesale Corporation       COST\n",
       " 13              Cisco Systems, Inc.       CSCO\n",
       " 14              Comcast Corporation      CMCSA\n",
       " 15                    Netflix, Inc.       NFLX\n",
       " 16     Advanced Micro Devices, Inc.        AMD\n",
       " 17                T-Mobile US, Inc.       TMUS\n",
       " 18   Texas Instruments Incorporated        TXN\n",
       " 19                      Intuit Inc.       INTU\n",
       " 20                Intel Corporation       INTC\n",
       " 21                       Amgen Inc.       AMGN\n",
       " 22          Applied Materials, Inc.       AMAT\n",
       " 23            QUALCOMM Incorporated       QCOM\n",
       " 24     Honeywell International Inc.        HON\n",
       " 25            Booking Holdings Inc.       BKNG\n",
       " 26            Starbucks Corporation       SBUX\n",
       " 27         Intuitive Surgical, Inc.       ISRG\n",
       " 28  Automatic Data Processing, Inc.        ADP\n",
       " 29     Mondelez International, Inc.       MDLZ\n",
       " 30            Gilead Sciences, Inc.       GILD"
      ]
     },
     "execution_count": 2,
     "metadata": {},
     "output_type": "execute_result"
    }
   ],
   "source": [
    "# Cargar lista de insumos\n",
    "dir = 'raw_data/'\n",
    "file = 'files_list.csv'\n",
    "\n",
    "file_df = pd.read_csv(dir + file, index_col='ind')\n",
    "\n",
    "#Separar códigos bursátiles\n",
    "pattern = r'\\((.*?)\\)'\n",
    "\n",
    "file_df['stock'] = file_df['name'].str.extract(pattern)\n",
    "file_df['name'] = file_df['name'].str.replace(pattern, '')\n",
    "\n",
    "# Seleccionar el top de empresas a usar (siempre cargar negativos y 0)\n",
    "top_n = 30\n",
    "\n",
    "file_df = file_df[file_df.index < top_n + 1]\n",
    "file_df"
   ]
  },
  {
   "cell_type": "code",
   "execution_count": 3,
   "id": "f0459c58",
   "metadata": {
    "ExecuteTime": {
     "end_time": "2024-02-26T05:26:24.781297Z",
     "start_time": "2024-02-26T05:26:24.380800Z"
    },
    "colab": {
     "base_uri": "https://localhost:8080/"
    },
    "hidden": true,
    "id": "f0459c58",
    "outputId": "c6624bc8-32c7-4867-89a6-66aaadff0a67"
   },
   "outputs": [
    {
     "data": {
      "text/plain": [
       "dict_keys(['FEDFUNDS_DF', 'UNRATE_DF', '^NDX_DF', 'AAPL_DF', 'MSFT_DF', 'AMZN_DF', 'NVDA_DF', 'META_DF', 'AVGO_DF', 'TSLA_DF', 'GOOG_DF', 'GOOGL_DF', 'ADBE_DF', 'PEP_DF', 'COST_DF', 'CSCO_DF', 'CMCSA_DF', 'NFLX_DF', 'AMD_DF', 'TMUS_DF', 'TXN_DF', 'INTU_DF', 'INTC_DF', 'AMGN_DF', 'AMAT_DF', 'QCOM_DF', 'HON_DF', 'BKNG_DF', 'SBUX_DF', 'ISRG_DF', 'ADP_DF', 'MDLZ_DF', 'GILD_DF'])"
      ]
     },
     "execution_count": 3,
     "metadata": {},
     "output_type": "execute_result"
    }
   ],
   "source": [
    "# Cargar archivos en dataframe y gardarlos en diccionario\n",
    "stocks_dict = {}\n",
    "\n",
    "for f in file_df['stock']:\n",
    "    file = f + '.csv'\n",
    "    df_name = f + '_DF'\n",
    "    df = pd.read_csv(dir + file)\n",
    "    stocks_dict[df_name] = df\n",
    "\n",
    "stocks_dict.keys()"
   ]
  },
  {
   "cell_type": "markdown",
   "id": "16d15a07",
   "metadata": {
    "heading_collapsed": true,
    "id": "16d15a07"
   },
   "source": [
    "# Preprocesado de datos"
   ]
  },
  {
   "cell_type": "code",
   "execution_count": 4,
   "id": "b15fa2d3",
   "metadata": {
    "ExecuteTime": {
     "end_time": "2024-02-26T05:26:24.812299Z",
     "start_time": "2024-02-26T05:26:24.784798Z"
    },
    "colab": {
     "base_uri": "https://localhost:8080/"
    },
    "hidden": true,
    "id": "b15fa2d3",
    "outputId": "3ddc19ea-8149-4160-d944-5d07a6d7a4c7"
   },
   "outputs": [],
   "source": [
    "# Parsear formato de fechas para FEDFUNDS y UNRATE\n",
    "macros = ['FEDFUNDS_DF', 'UNRATE_DF']\n",
    "stocks = [key for key in stocks_dict.keys() if key not in macros]\n",
    "\n",
    "for i in macros:\n",
    "    stocks_dict[i]['DATE'] = pd.to_datetime(stocks_dict[i]['DATE'], format='%d/%m/%Y')\n",
    "    stocks_dict[i]['DATE'] = stocks_dict[i]['DATE'].dt.strftime('%Y-%m-%d')\n",
    "\n",
    "    # Cambiar nombre de columna a Date\n",
    "    stocks_dict[i].rename(columns= {'DATE' : 'Date'}, inplace= True)"
   ]
  },
  {
   "cell_type": "code",
   "execution_count": 5,
   "id": "455d05e1",
   "metadata": {
    "ExecuteTime": {
     "end_time": "2024-02-26T05:26:24.827798Z",
     "start_time": "2024-02-26T05:26:24.814800Z"
    },
    "colab": {
     "base_uri": "https://localhost:8080/",
     "height": 424
    },
    "hidden": true,
    "id": "455d05e1",
    "outputId": "e6b84441-3398-44d4-e4fb-e06d59e13fc8"
   },
   "outputs": [
    {
     "data": {
      "text/html": [
       "<div>\n",
       "<style scoped>\n",
       "    .dataframe tbody tr th:only-of-type {\n",
       "        vertical-align: middle;\n",
       "    }\n",
       "\n",
       "    .dataframe tbody tr th {\n",
       "        vertical-align: top;\n",
       "    }\n",
       "\n",
       "    .dataframe thead th {\n",
       "        text-align: right;\n",
       "    }\n",
       "</style>\n",
       "<table border=\"1\" class=\"dataframe\">\n",
       "  <thead>\n",
       "    <tr style=\"text-align: right;\">\n",
       "      <th></th>\n",
       "      <th>Date</th>\n",
       "      <th>FEDFUNDS</th>\n",
       "    </tr>\n",
       "  </thead>\n",
       "  <tbody>\n",
       "    <tr>\n",
       "      <th>0</th>\n",
       "      <td>1954-07-01</td>\n",
       "      <td>0.80</td>\n",
       "    </tr>\n",
       "    <tr>\n",
       "      <th>1</th>\n",
       "      <td>1954-08-01</td>\n",
       "      <td>1.22</td>\n",
       "    </tr>\n",
       "    <tr>\n",
       "      <th>2</th>\n",
       "      <td>1954-09-01</td>\n",
       "      <td>1.07</td>\n",
       "    </tr>\n",
       "    <tr>\n",
       "      <th>3</th>\n",
       "      <td>1954-10-01</td>\n",
       "      <td>0.85</td>\n",
       "    </tr>\n",
       "    <tr>\n",
       "      <th>4</th>\n",
       "      <td>1954-11-01</td>\n",
       "      <td>0.83</td>\n",
       "    </tr>\n",
       "    <tr>\n",
       "      <th>...</th>\n",
       "      <td>...</td>\n",
       "      <td>...</td>\n",
       "    </tr>\n",
       "    <tr>\n",
       "      <th>829</th>\n",
       "      <td>2023-08-01</td>\n",
       "      <td>5.33</td>\n",
       "    </tr>\n",
       "    <tr>\n",
       "      <th>830</th>\n",
       "      <td>2023-09-01</td>\n",
       "      <td>5.33</td>\n",
       "    </tr>\n",
       "    <tr>\n",
       "      <th>831</th>\n",
       "      <td>2023-10-01</td>\n",
       "      <td>5.33</td>\n",
       "    </tr>\n",
       "    <tr>\n",
       "      <th>832</th>\n",
       "      <td>2023-11-01</td>\n",
       "      <td>5.33</td>\n",
       "    </tr>\n",
       "    <tr>\n",
       "      <th>833</th>\n",
       "      <td>2023-12-01</td>\n",
       "      <td>5.33</td>\n",
       "    </tr>\n",
       "  </tbody>\n",
       "</table>\n",
       "<p>834 rows × 2 columns</p>\n",
       "</div>"
      ],
      "text/plain": [
       "           Date  FEDFUNDS\n",
       "0    1954-07-01      0.80\n",
       "1    1954-08-01      1.22\n",
       "2    1954-09-01      1.07\n",
       "3    1954-10-01      0.85\n",
       "4    1954-11-01      0.83\n",
       "..          ...       ...\n",
       "829  2023-08-01      5.33\n",
       "830  2023-09-01      5.33\n",
       "831  2023-10-01      5.33\n",
       "832  2023-11-01      5.33\n",
       "833  2023-12-01      5.33\n",
       "\n",
       "[834 rows x 2 columns]"
      ]
     },
     "execution_count": 5,
     "metadata": {},
     "output_type": "execute_result"
    }
   ],
   "source": [
    "# Visualización de los dataframe\n",
    "stocks_dict['FEDFUNDS_DF']"
   ]
  },
  {
   "cell_type": "code",
   "execution_count": 6,
   "id": "20e4914a",
   "metadata": {
    "ExecuteTime": {
     "end_time": "2024-02-26T05:26:24.874297Z",
     "start_time": "2024-02-26T05:26:24.830798Z"
    },
    "colab": {
     "base_uri": "https://localhost:8080/"
    },
    "hidden": true,
    "id": "20e4914a",
    "outputId": "2c965301-988c-43e9-ded7-63ff92bf0d34"
   },
   "outputs": [
    {
     "data": {
      "text/plain": [
       "Index(['Date', 'Open', 'High', 'Low', 'Close', 'Volume'], dtype='object')"
      ]
     },
     "execution_count": 6,
     "metadata": {},
     "output_type": "execute_result"
    }
   ],
   "source": [
    "# Seleccionar variables que nos interesan y eliminar las demas de los DF\n",
    "variables = ['Date', 'FEDFUNDS', 'UNRATE', 'High', 'Low', 'Open', 'Close', 'Volume']\n",
    "\n",
    "for df in stocks_dict.keys():\n",
    "    for col in stocks_dict[df].columns:\n",
    "        if col not in variables:\n",
    "            stocks_dict[df].drop(col, axis= 1, inplace= True)\n",
    "\n",
    "stocks_dict['AAPL_DF'].columns"
   ]
  },
  {
   "cell_type": "code",
   "execution_count": 7,
   "id": "7403b86f",
   "metadata": {
    "ExecuteTime": {
     "end_time": "2024-02-26T05:26:24.982798Z",
     "start_time": "2024-02-26T05:26:24.876798Z"
    },
    "colab": {
     "base_uri": "https://localhost:8080/",
     "height": 424
    },
    "hidden": true,
    "id": "7403b86f",
    "outputId": "ef05ac56-7b3a-48c3-f802-c8bad11742c7"
   },
   "outputs": [
    {
     "data": {
      "text/html": [
       "<div>\n",
       "<style scoped>\n",
       "    .dataframe tbody tr th:only-of-type {\n",
       "        vertical-align: middle;\n",
       "    }\n",
       "\n",
       "    .dataframe tbody tr th {\n",
       "        vertical-align: top;\n",
       "    }\n",
       "\n",
       "    .dataframe thead th {\n",
       "        text-align: right;\n",
       "    }\n",
       "</style>\n",
       "<table border=\"1\" class=\"dataframe\">\n",
       "  <thead>\n",
       "    <tr style=\"text-align: right;\">\n",
       "      <th></th>\n",
       "      <th>Date</th>\n",
       "      <th>FEDFUNDS</th>\n",
       "    </tr>\n",
       "  </thead>\n",
       "  <tbody>\n",
       "    <tr>\n",
       "      <th>695</th>\n",
       "      <td>2012-06-01</td>\n",
       "      <td>0.16</td>\n",
       "    </tr>\n",
       "    <tr>\n",
       "      <th>696</th>\n",
       "      <td>2012-07-01</td>\n",
       "      <td>0.16</td>\n",
       "    </tr>\n",
       "    <tr>\n",
       "      <th>697</th>\n",
       "      <td>2012-08-01</td>\n",
       "      <td>0.13</td>\n",
       "    </tr>\n",
       "    <tr>\n",
       "      <th>698</th>\n",
       "      <td>2012-09-01</td>\n",
       "      <td>0.14</td>\n",
       "    </tr>\n",
       "    <tr>\n",
       "      <th>699</th>\n",
       "      <td>2012-10-01</td>\n",
       "      <td>0.16</td>\n",
       "    </tr>\n",
       "    <tr>\n",
       "      <th>...</th>\n",
       "      <td>...</td>\n",
       "      <td>...</td>\n",
       "    </tr>\n",
       "    <tr>\n",
       "      <th>829</th>\n",
       "      <td>2023-08-01</td>\n",
       "      <td>5.33</td>\n",
       "    </tr>\n",
       "    <tr>\n",
       "      <th>830</th>\n",
       "      <td>2023-09-01</td>\n",
       "      <td>5.33</td>\n",
       "    </tr>\n",
       "    <tr>\n",
       "      <th>831</th>\n",
       "      <td>2023-10-01</td>\n",
       "      <td>5.33</td>\n",
       "    </tr>\n",
       "    <tr>\n",
       "      <th>832</th>\n",
       "      <td>2023-11-01</td>\n",
       "      <td>5.33</td>\n",
       "    </tr>\n",
       "    <tr>\n",
       "      <th>833</th>\n",
       "      <td>2023-12-01</td>\n",
       "      <td>5.33</td>\n",
       "    </tr>\n",
       "  </tbody>\n",
       "</table>\n",
       "<p>139 rows × 2 columns</p>\n",
       "</div>"
      ],
      "text/plain": [
       "           Date  FEDFUNDS\n",
       "695  2012-06-01      0.16\n",
       "696  2012-07-01      0.16\n",
       "697  2012-08-01      0.13\n",
       "698  2012-09-01      0.14\n",
       "699  2012-10-01      0.16\n",
       "..          ...       ...\n",
       "829  2023-08-01      5.33\n",
       "830  2023-09-01      5.33\n",
       "831  2023-10-01      5.33\n",
       "832  2023-11-01      5.33\n",
       "833  2023-12-01      5.33\n",
       "\n",
       "[139 rows x 2 columns]"
      ]
     },
     "execution_count": 7,
     "metadata": {},
     "output_type": "execute_result"
    }
   ],
   "source": [
    "# Definimos fechas inicio y fin, eliminaremos todo lo que no esté en este rango\n",
    "start_date= '2012-06-01'           #  Meta 2012-06-01\n",
    "end_date= '2023-12-31'\n",
    "date_range = pd.date_range(start=start_date, end= end_date, freq= 'D')\n",
    "\n",
    "for df in stocks_dict.keys():\n",
    "    stocks_dict[df].drop(stocks_dict[df][stocks_dict[df]['Date'] < start_date].index, inplace=True)\n",
    "    stocks_dict[df].drop(stocks_dict[df][stocks_dict[df]['Date'] > end_date].index, inplace=True)\n",
    "\n",
    "stocks_dict['FEDFUNDS_DF']"
   ]
  },
  {
   "cell_type": "markdown",
   "id": "Cy6fWxijDzfJ",
   "metadata": {
    "heading_collapsed": true,
    "id": "Cy6fWxijDzfJ"
   },
   "source": [
    "# Análisis exploratorio de datos (Exploratory Data Analysis)"
   ]
  },
  {
   "cell_type": "markdown",
   "id": "XkQf91vLFjLE",
   "metadata": {
    "hidden": true,
    "id": "XkQf91vLFjLE"
   },
   "source": [
    "**El siguiente código tiene como objetivo detectar valores nulos o duplicados en distintos conjuntos de datos.**"
   ]
  },
  {
   "cell_type": "code",
   "execution_count": 8,
   "id": "b19eb4c8",
   "metadata": {
    "ExecuteTime": {
     "end_time": "2024-02-26T05:26:25.277296Z",
     "start_time": "2024-02-26T05:26:24.985297Z"
    },
    "colab": {
     "base_uri": "https://localhost:8080/"
    },
    "hidden": true,
    "id": "b19eb4c8",
    "outputId": "9b6e8076-335e-4b68-f314-cdc53b3bc9fa",
    "scrolled": true
   },
   "outputs": [
    {
     "name": "stdout",
     "output_type": "stream",
     "text": [
      "***** FEDFUNDS_DF *****\n",
      "<class 'pandas.core.frame.DataFrame'>\n",
      "RangeIndex: 139 entries, 695 to 833\n",
      "Data columns (total 2 columns):\n",
      " #   Column    Non-Null Count  Dtype  \n",
      "---  ------    --------------  -----  \n",
      " 0   Date      139 non-null    object \n",
      " 1   FEDFUNDS  139 non-null    float64\n",
      "dtypes: float64(1), object(1)\n",
      "memory usage: 2.3+ KB\n",
      "\n",
      "\n",
      "***** UNRATE_DF *****\n",
      "<class 'pandas.core.frame.DataFrame'>\n",
      "RangeIndex: 139 entries, 773 to 911\n",
      "Data columns (total 2 columns):\n",
      " #   Column  Non-Null Count  Dtype  \n",
      "---  ------  --------------  -----  \n",
      " 0   Date    139 non-null    object \n",
      " 1   UNRATE  139 non-null    float64\n",
      "dtypes: float64(1), object(1)\n",
      "memory usage: 2.3+ KB\n",
      "\n",
      "\n",
      "***** ^NDX_DF *****\n",
      "<class 'pandas.core.frame.DataFrame'>\n",
      "RangeIndex: 2914 entries, 6726 to 9639\n",
      "Data columns (total 6 columns):\n",
      " #   Column  Non-Null Count  Dtype  \n",
      "---  ------  --------------  -----  \n",
      " 0   Date    2914 non-null   object \n",
      " 1   Open    2914 non-null   float64\n",
      " 2   High    2914 non-null   float64\n",
      " 3   Low     2914 non-null   float64\n",
      " 4   Close   2914 non-null   float64\n",
      " 5   Volume  2914 non-null   int64  \n",
      "dtypes: float64(4), int64(1), object(1)\n",
      "memory usage: 136.7+ KB\n",
      "\n",
      "\n",
      "***** AAPL_DF *****\n",
      "<class 'pandas.core.frame.DataFrame'>\n",
      "RangeIndex: 2914 entries, 7939 to 10852\n",
      "Data columns (total 6 columns):\n",
      " #   Column  Non-Null Count  Dtype  \n",
      "---  ------  --------------  -----  \n",
      " 0   Date    2914 non-null   object \n",
      " 1   Open    2914 non-null   float64\n",
      " 2   High    2914 non-null   float64\n",
      " 3   Low     2914 non-null   float64\n",
      " 4   Close   2914 non-null   float64\n",
      " 5   Volume  2914 non-null   int64  \n",
      "dtypes: float64(4), int64(1), object(1)\n",
      "memory usage: 136.7+ KB\n",
      "\n",
      "\n",
      "***** MSFT_DF *****\n",
      "<class 'pandas.core.frame.DataFrame'>\n",
      "RangeIndex: 2914 entries, 6613 to 9526\n",
      "Data columns (total 6 columns):\n",
      " #   Column  Non-Null Count  Dtype  \n",
      "---  ------  --------------  -----  \n",
      " 0   Date    2914 non-null   object \n",
      " 1   Open    2914 non-null   float64\n",
      " 2   High    2914 non-null   float64\n",
      " 3   Low     2914 non-null   float64\n",
      " 4   Close   2914 non-null   float64\n",
      " 5   Volume  2914 non-null   int64  \n",
      "dtypes: float64(4), int64(1), object(1)\n",
      "memory usage: 136.7+ KB\n",
      "\n",
      "\n",
      "***** AMZN_DF *****\n",
      "<class 'pandas.core.frame.DataFrame'>\n",
      "RangeIndex: 2914 entries, 3787 to 6700\n",
      "Data columns (total 6 columns):\n",
      " #   Column  Non-Null Count  Dtype  \n",
      "---  ------  --------------  -----  \n",
      " 0   Date    2914 non-null   object \n",
      " 1   Open    2914 non-null   float64\n",
      " 2   High    2914 non-null   float64\n",
      " 3   Low     2914 non-null   float64\n",
      " 4   Close   2914 non-null   float64\n",
      " 5   Volume  2914 non-null   int64  \n",
      "dtypes: float64(4), int64(1), object(1)\n",
      "memory usage: 136.7+ KB\n",
      "\n",
      "\n",
      "***** NVDA_DF *****\n",
      "<class 'pandas.core.frame.DataFrame'>\n",
      "RangeIndex: 2914 entries, 3362 to 6275\n",
      "Data columns (total 6 columns):\n",
      " #   Column  Non-Null Count  Dtype  \n",
      "---  ------  --------------  -----  \n",
      " 0   Date    2914 non-null   object \n",
      " 1   Open    2914 non-null   float64\n",
      " 2   High    2914 non-null   float64\n",
      " 3   Low     2914 non-null   float64\n",
      " 4   Close   2914 non-null   float64\n",
      " 5   Volume  2914 non-null   int64  \n",
      "dtypes: float64(4), int64(1), object(1)\n",
      "memory usage: 136.7+ KB\n",
      "\n",
      "\n",
      "***** META_DF *****\n",
      "<class 'pandas.core.frame.DataFrame'>\n",
      "RangeIndex: 2914 entries, 9 to 2922\n",
      "Data columns (total 6 columns):\n",
      " #   Column  Non-Null Count  Dtype  \n",
      "---  ------  --------------  -----  \n",
      " 0   Date    2914 non-null   object \n",
      " 1   Open    2914 non-null   float64\n",
      " 2   High    2914 non-null   float64\n",
      " 3   Low     2914 non-null   float64\n",
      " 4   Close   2914 non-null   float64\n",
      " 5   Volume  2914 non-null   int64  \n",
      "dtypes: float64(4), int64(1), object(1)\n",
      "memory usage: 136.7+ KB\n",
      "\n",
      "\n",
      "***** AVGO_DF *****\n",
      "<class 'pandas.core.frame.DataFrame'>\n",
      "RangeIndex: 2914 entries, 711 to 3624\n",
      "Data columns (total 6 columns):\n",
      " #   Column  Non-Null Count  Dtype  \n",
      "---  ------  --------------  -----  \n",
      " 0   Date    2914 non-null   object \n",
      " 1   Open    2914 non-null   float64\n",
      " 2   High    2914 non-null   float64\n",
      " 3   Low     2914 non-null   float64\n",
      " 4   Close   2914 non-null   float64\n",
      " 5   Volume  2914 non-null   int64  \n",
      "dtypes: float64(4), int64(1), object(1)\n",
      "memory usage: 136.7+ KB\n",
      "\n",
      "\n",
      "***** TSLA_DF *****\n",
      "<class 'pandas.core.frame.DataFrame'>\n",
      "RangeIndex: 2914 entries, 486 to 3399\n",
      "Data columns (total 6 columns):\n",
      " #   Column  Non-Null Count  Dtype  \n",
      "---  ------  --------------  -----  \n",
      " 0   Date    2914 non-null   object \n",
      " 1   Open    2914 non-null   float64\n",
      " 2   High    2914 non-null   float64\n",
      " 3   Low     2914 non-null   float64\n",
      " 4   Close   2914 non-null   float64\n",
      " 5   Volume  2914 non-null   int64  \n",
      "dtypes: float64(4), int64(1), object(1)\n",
      "memory usage: 136.7+ KB\n",
      "\n",
      "\n",
      "***** GOOG_DF *****\n",
      "<class 'pandas.core.frame.DataFrame'>\n",
      "RangeIndex: 2914 entries, 1961 to 4874\n",
      "Data columns (total 6 columns):\n",
      " #   Column  Non-Null Count  Dtype  \n",
      "---  ------  --------------  -----  \n",
      " 0   Date    2914 non-null   object \n",
      " 1   Open    2914 non-null   float64\n",
      " 2   High    2914 non-null   float64\n",
      " 3   Low     2914 non-null   float64\n",
      " 4   Close   2914 non-null   float64\n",
      " 5   Volume  2914 non-null   int64  \n",
      "dtypes: float64(4), int64(1), object(1)\n",
      "memory usage: 136.7+ KB\n",
      "\n",
      "\n",
      "***** GOOGL_DF *****\n",
      "<class 'pandas.core.frame.DataFrame'>\n",
      "RangeIndex: 2914 entries, 1961 to 4874\n",
      "Data columns (total 6 columns):\n",
      " #   Column  Non-Null Count  Dtype  \n",
      "---  ------  --------------  -----  \n",
      " 0   Date    2914 non-null   object \n",
      " 1   Open    2914 non-null   float64\n",
      " 2   High    2914 non-null   float64\n",
      " 3   Low     2914 non-null   float64\n",
      " 4   Close   2914 non-null   float64\n",
      " 5   Volume  2914 non-null   int64  \n",
      "dtypes: float64(4), int64(1), object(1)\n",
      "memory usage: 136.7+ KB\n",
      "\n",
      "\n",
      "***** ADBE_DF *****\n",
      "<class 'pandas.core.frame.DataFrame'>\n",
      "RangeIndex: 2914 entries, 6507 to 9420\n",
      "Data columns (total 6 columns):\n",
      " #   Column  Non-Null Count  Dtype  \n",
      "---  ------  --------------  -----  \n",
      " 0   Date    2914 non-null   object \n",
      " 1   Open    2914 non-null   float64\n",
      " 2   High    2914 non-null   float64\n",
      " 3   Low     2914 non-null   float64\n",
      " 4   Close   2914 non-null   float64\n",
      " 5   Volume  2914 non-null   int64  \n",
      "dtypes: float64(4), int64(1), object(1)\n",
      "memory usage: 136.7+ KB\n",
      "\n",
      "\n",
      "***** PEP_DF *****\n",
      "<class 'pandas.core.frame.DataFrame'>\n",
      "RangeIndex: 2914 entries, 10093 to 13006\n",
      "Data columns (total 6 columns):\n",
      " #   Column  Non-Null Count  Dtype  \n",
      "---  ------  --------------  -----  \n",
      " 0   Date    2914 non-null   object \n",
      " 1   Open    2914 non-null   float64\n",
      " 2   High    2914 non-null   float64\n",
      " 3   Low     2914 non-null   float64\n",
      " 4   Close   2914 non-null   float64\n",
      " 5   Volume  2914 non-null   int64  \n",
      "dtypes: float64(4), int64(1), object(1)\n",
      "memory usage: 136.7+ KB\n",
      "\n",
      "\n",
      "***** COST_DF *****\n",
      "<class 'pandas.core.frame.DataFrame'>\n",
      "RangeIndex: 2914 entries, 6532 to 9445\n",
      "Data columns (total 6 columns):\n",
      " #   Column  Non-Null Count  Dtype  \n",
      "---  ------  --------------  -----  \n",
      " 0   Date    2914 non-null   object \n",
      " 1   Open    2914 non-null   float64\n",
      " 2   High    2914 non-null   float64\n",
      " 3   Low     2914 non-null   float64\n",
      " 4   Close   2914 non-null   float64\n",
      " 5   Volume  2914 non-null   int64  \n",
      "dtypes: float64(4), int64(1), object(1)\n",
      "memory usage: 136.7+ KB\n",
      "\n",
      "\n",
      "***** CSCO_DF *****\n",
      "<class 'pandas.core.frame.DataFrame'>\n",
      "RangeIndex: 2914 entries, 5618 to 8531\n",
      "Data columns (total 6 columns):\n",
      " #   Column  Non-Null Count  Dtype  \n",
      "---  ------  --------------  -----  \n",
      " 0   Date    2914 non-null   object \n",
      " 1   Open    2914 non-null   float64\n",
      " 2   High    2914 non-null   float64\n",
      " 3   Low     2914 non-null   float64\n",
      " 4   Close   2914 non-null   float64\n",
      " 5   Volume  2914 non-null   int64  \n",
      "dtypes: float64(4), int64(1), object(1)\n",
      "memory usage: 136.7+ KB\n",
      "\n",
      "\n",
      "***** CMCSA_DF *****\n",
      "<class 'pandas.core.frame.DataFrame'>\n",
      "RangeIndex: 2914 entries, 8127 to 11040\n",
      "Data columns (total 6 columns):\n",
      " #   Column  Non-Null Count  Dtype  \n",
      "---  ------  --------------  -----  \n",
      " 0   Date    2914 non-null   object \n",
      " 1   Open    2914 non-null   float64\n",
      " 2   High    2914 non-null   float64\n",
      " 3   Low     2914 non-null   float64\n",
      " 4   Close   2914 non-null   float64\n",
      " 5   Volume  2914 non-null   int64  \n",
      "dtypes: float64(4), int64(1), object(1)\n",
      "memory usage: 136.7+ KB\n",
      "\n",
      "\n",
      "***** NFLX_DF *****\n",
      "<class 'pandas.core.frame.DataFrame'>\n",
      "RangeIndex: 2914 entries, 2525 to 5438\n",
      "Data columns (total 6 columns):\n",
      " #   Column  Non-Null Count  Dtype  \n",
      "---  ------  --------------  -----  \n",
      " 0   Date    2914 non-null   object \n",
      " 1   Open    2914 non-null   float64\n",
      " 2   High    2914 non-null   float64\n",
      " 3   Low     2914 non-null   float64\n",
      " 4   Close   2914 non-null   float64\n",
      " 5   Volume  2914 non-null   int64  \n",
      "dtypes: float64(4), int64(1), object(1)\n",
      "memory usage: 136.7+ KB\n",
      "\n",
      "\n",
      "***** AMD_DF *****\n",
      "<class 'pandas.core.frame.DataFrame'>\n",
      "RangeIndex: 2914 entries, 8127 to 11040\n",
      "Data columns (total 6 columns):\n",
      " #   Column  Non-Null Count  Dtype  \n",
      "---  ------  --------------  -----  \n",
      " 0   Date    2914 non-null   object \n",
      " 1   Open    2914 non-null   float64\n",
      " 2   High    2914 non-null   float64\n",
      " 3   Low     2914 non-null   float64\n",
      " 4   Close   2914 non-null   float64\n",
      " 5   Volume  2914 non-null   int64  \n",
      "dtypes: float64(4), int64(1), object(1)\n",
      "memory usage: 136.7+ KB\n",
      "\n",
      "\n",
      "***** TMUS_DF *****\n",
      "<class 'pandas.core.frame.DataFrame'>\n",
      "RangeIndex: 2914 entries, 1291 to 4204\n",
      "Data columns (total 6 columns):\n",
      " #   Column  Non-Null Count  Dtype  \n",
      "---  ------  --------------  -----  \n",
      " 0   Date    2914 non-null   object \n",
      " 1   Open    2914 non-null   float64\n",
      " 2   High    2914 non-null   float64\n",
      " 3   Low     2914 non-null   float64\n",
      " 4   Close   2914 non-null   float64\n",
      " 5   Volume  2914 non-null   int64  \n",
      "dtypes: float64(4), int64(1), object(1)\n",
      "memory usage: 136.7+ KB\n",
      "\n",
      "\n",
      "***** TXN_DF *****\n",
      "<class 'pandas.core.frame.DataFrame'>\n",
      "RangeIndex: 2914 entries, 10093 to 13006\n",
      "Data columns (total 6 columns):\n",
      " #   Column  Non-Null Count  Dtype  \n",
      "---  ------  --------------  -----  \n",
      " 0   Date    2914 non-null   object \n",
      " 1   Open    2914 non-null   float64\n",
      " 2   High    2914 non-null   float64\n",
      " 3   Low     2914 non-null   float64\n",
      " 4   Close   2914 non-null   float64\n",
      " 5   Volume  2914 non-null   int64  \n",
      "dtypes: float64(4), int64(1), object(1)\n",
      "memory usage: 136.7+ KB\n",
      "\n",
      "\n",
      "***** INTU_DF *****\n",
      "<class 'pandas.core.frame.DataFrame'>\n",
      "RangeIndex: 2914 entries, 4843 to 7756\n",
      "Data columns (total 6 columns):\n",
      " #   Column  Non-Null Count  Dtype  \n",
      "---  ------  --------------  -----  \n",
      " 0   Date    2914 non-null   object \n",
      " 1   Open    2914 non-null   float64\n",
      " 2   High    2914 non-null   float64\n",
      " 3   Low     2914 non-null   float64\n",
      " 4   Close   2914 non-null   float64\n",
      " 5   Volume  2914 non-null   int64  \n",
      "dtypes: float64(4), int64(1), object(1)\n",
      "memory usage: 136.7+ KB\n",
      "\n",
      "\n",
      "***** INTC_DF *****\n",
      "<class 'pandas.core.frame.DataFrame'>\n",
      "RangeIndex: 2914 entries, 8127 to 11040\n",
      "Data columns (total 6 columns):\n",
      " #   Column  Non-Null Count  Dtype  \n",
      "---  ------  --------------  -----  \n",
      " 0   Date    2914 non-null   object \n",
      " 1   Open    2914 non-null   float64\n",
      " 2   High    2914 non-null   float64\n",
      " 3   Low     2914 non-null   float64\n",
      " 4   Close   2914 non-null   float64\n",
      " 5   Volume  2914 non-null   int64  \n",
      "dtypes: float64(4), int64(1), object(1)\n",
      "memory usage: 136.7+ KB\n",
      "\n",
      "\n",
      "***** AMGN_DF *****\n",
      "<class 'pandas.core.frame.DataFrame'>\n",
      "RangeIndex: 2914 entries, 7304 to 10217\n",
      "Data columns (total 6 columns):\n",
      " #   Column  Non-Null Count  Dtype  \n",
      "---  ------  --------------  -----  \n",
      " 0   Date    2914 non-null   object \n",
      " 1   Open    2914 non-null   float64\n",
      " 2   High    2914 non-null   float64\n",
      " 3   Low     2914 non-null   float64\n",
      " 4   Close   2914 non-null   float64\n",
      " 5   Volume  2914 non-null   int64  \n",
      "dtypes: float64(4), int64(1), object(1)\n",
      "memory usage: 136.7+ KB\n",
      "\n",
      "\n",
      "***** AMAT_DF *****\n",
      "<class 'pandas.core.frame.DataFrame'>\n",
      "RangeIndex: 2914 entries, 8127 to 11040\n",
      "Data columns (total 6 columns):\n",
      " #   Column  Non-Null Count  Dtype  \n",
      "---  ------  --------------  -----  \n",
      " 0   Date    2914 non-null   object \n",
      " 1   Open    2914 non-null   float64\n",
      " 2   High    2914 non-null   float64\n",
      " 3   Low     2914 non-null   float64\n",
      " 4   Close   2914 non-null   float64\n",
      " 5   Volume  2914 non-null   int64  \n",
      "dtypes: float64(4), int64(1), object(1)\n",
      "memory usage: 136.7+ KB\n",
      "\n",
      "\n",
      "***** QCOM_DF *****\n",
      "<class 'pandas.core.frame.DataFrame'>\n",
      "RangeIndex: 2914 entries, 5157 to 8070\n",
      "Data columns (total 6 columns):\n",
      " #   Column  Non-Null Count  Dtype  \n",
      "---  ------  --------------  -----  \n",
      " 0   Date    2914 non-null   object \n",
      " 1   Open    2914 non-null   float64\n",
      " 2   High    2914 non-null   float64\n",
      " 3   Low     2914 non-null   float64\n",
      " 4   Close   2914 non-null   float64\n",
      " 5   Volume  2914 non-null   int64  \n",
      "dtypes: float64(4), int64(1), object(1)\n",
      "memory usage: 136.7+ KB\n"
     ]
    },
    {
     "name": "stdout",
     "output_type": "stream",
     "text": [
      "\n",
      "\n",
      "***** HON_DF *****\n",
      "<class 'pandas.core.frame.DataFrame'>\n",
      "RangeIndex: 2914 entries, 12692 to 15605\n",
      "Data columns (total 6 columns):\n",
      " #   Column  Non-Null Count  Dtype  \n",
      "---  ------  --------------  -----  \n",
      " 0   Date    2914 non-null   object \n",
      " 1   Open    2914 non-null   float64\n",
      " 2   High    2914 non-null   float64\n",
      " 3   Low     2914 non-null   float64\n",
      " 4   Close   2914 non-null   float64\n",
      " 5   Volume  2914 non-null   int64  \n",
      "dtypes: float64(4), int64(1), object(1)\n",
      "memory usage: 136.7+ KB\n",
      "\n",
      "\n",
      "***** BKNG_DF *****\n",
      "<class 'pandas.core.frame.DataFrame'>\n",
      "RangeIndex: 2914 entries, 3315 to 6228\n",
      "Data columns (total 6 columns):\n",
      " #   Column  Non-Null Count  Dtype  \n",
      "---  ------  --------------  -----  \n",
      " 0   Date    2914 non-null   object \n",
      " 1   Open    2914 non-null   float64\n",
      " 2   High    2914 non-null   float64\n",
      " 3   Low     2914 non-null   float64\n",
      " 4   Close   2914 non-null   float64\n",
      " 5   Volume  2914 non-null   int64  \n",
      "dtypes: float64(4), int64(1), object(1)\n",
      "memory usage: 136.7+ KB\n",
      "\n",
      "\n",
      "***** SBUX_DF *****\n",
      "<class 'pandas.core.frame.DataFrame'>\n",
      "RangeIndex: 2914 entries, 5022 to 7935\n",
      "Data columns (total 6 columns):\n",
      " #   Column  Non-Null Count  Dtype  \n",
      "---  ------  --------------  -----  \n",
      " 0   Date    2914 non-null   object \n",
      " 1   Open    2914 non-null   float64\n",
      " 2   High    2914 non-null   float64\n",
      " 3   Low     2914 non-null   float64\n",
      " 4   Close   2914 non-null   float64\n",
      " 5   Volume  2914 non-null   int64  \n",
      "dtypes: float64(4), int64(1), object(1)\n",
      "memory usage: 136.7+ KB\n",
      "\n",
      "\n",
      "***** ISRG_DF *****\n",
      "<class 'pandas.core.frame.DataFrame'>\n",
      "RangeIndex: 2914 entries, 3008 to 5921\n",
      "Data columns (total 6 columns):\n",
      " #   Column  Non-Null Count  Dtype  \n",
      "---  ------  --------------  -----  \n",
      " 0   Date    2914 non-null   object \n",
      " 1   Open    2914 non-null   float64\n",
      " 2   High    2914 non-null   float64\n",
      " 3   Low     2914 non-null   float64\n",
      " 4   Close   2914 non-null   float64\n",
      " 5   Volume  2914 non-null   int64  \n",
      "dtypes: float64(4), int64(1), object(1)\n",
      "memory usage: 136.7+ KB\n",
      "\n",
      "\n",
      "***** ADP_DF *****\n",
      "<class 'pandas.core.frame.DataFrame'>\n",
      "RangeIndex: 2914 entries, 8127 to 11040\n",
      "Data columns (total 6 columns):\n",
      " #   Column  Non-Null Count  Dtype  \n",
      "---  ------  --------------  -----  \n",
      " 0   Date    2914 non-null   object \n",
      " 1   Open    2914 non-null   float64\n",
      " 2   High    2914 non-null   float64\n",
      " 3   Low     2914 non-null   float64\n",
      " 4   Close   2914 non-null   float64\n",
      " 5   Volume  2914 non-null   int64  \n",
      "dtypes: float64(4), int64(1), object(1)\n",
      "memory usage: 136.7+ KB\n",
      "\n",
      "\n",
      "***** MDLZ_DF *****\n",
      "<class 'pandas.core.frame.DataFrame'>\n",
      "RangeIndex: 2914 entries, 2759 to 5672\n",
      "Data columns (total 6 columns):\n",
      " #   Column  Non-Null Count  Dtype  \n",
      "---  ------  --------------  -----  \n",
      " 0   Date    2914 non-null   object \n",
      " 1   Open    2914 non-null   float64\n",
      " 2   High    2914 non-null   float64\n",
      " 3   Low     2914 non-null   float64\n",
      " 4   Close   2914 non-null   float64\n",
      " 5   Volume  2914 non-null   int64  \n",
      "dtypes: float64(4), int64(1), object(1)\n",
      "memory usage: 136.7+ KB\n",
      "\n",
      "\n",
      "***** GILD_DF *****\n",
      "<class 'pandas.core.frame.DataFrame'>\n",
      "RangeIndex: 2914 entries, 5131 to 8044\n",
      "Data columns (total 6 columns):\n",
      " #   Column  Non-Null Count  Dtype  \n",
      "---  ------  --------------  -----  \n",
      " 0   Date    2914 non-null   object \n",
      " 1   Open    2914 non-null   float64\n",
      " 2   High    2914 non-null   float64\n",
      " 3   Low     2914 non-null   float64\n",
      " 4   Close   2914 non-null   float64\n",
      " 5   Volume  2914 non-null   int64  \n",
      "dtypes: float64(4), int64(1), object(1)\n",
      "memory usage: 136.7+ KB\n",
      "\n",
      "\n"
     ]
    }
   ],
   "source": [
    "# Visualizar información de cada DF y alertar por nulos y duplicados\n",
    "for df in stocks_dict.keys():\n",
    "    print('***** '+ df +' *****')\n",
    "    stocks_dict[df].info()\n",
    "\n",
    "    null_values = stocks_dict[df].isnull().any()\n",
    "    if null_values.any():\n",
    "        print(\"Advertencia: \" + df + \" contiene nulos!!\")\n",
    "\n",
    "    duplicated_rows = stocks_dict[df].duplicated()\n",
    "    if duplicated_rows.any():\n",
    "        print(\"Advertencia: \" + df + \" contiene duplicados!!\")\n",
    "\n",
    "    print()\n",
    "    print()"
   ]
  },
  {
   "cell_type": "markdown",
   "id": "DUPnjnI6EMoo",
   "metadata": {
    "hidden": true,
    "id": "DUPnjnI6EMoo"
   },
   "source": [
    "Según los resultados obtenidos del código previo, podemos concluir que no hay valores duplicados ni nulos de forma individual en cada dataframe. Sin embargo, como la información de tasas son series mensuales, bimestrales o trimestrales, es necesario convertirlas en series diarias, donde cada valor diario corresponderá al último valor mensual conocido.\n",
    "\n",
    "Lo anterior hay que realizarlo porque posteriormente quitaremos las filas que tengan nulos o NaN en alguna variable y nos estaríamos quedando con información correspondiente a 1 día del mes de no hacer esta imputación"
   ]
  },
  {
   "cell_type": "code",
   "execution_count": 9,
   "id": "53acdc7f",
   "metadata": {
    "ExecuteTime": {
     "end_time": "2024-02-26T05:26:25.323797Z",
     "start_time": "2024-02-26T05:26:25.279798Z"
    },
    "colab": {
     "base_uri": "https://localhost:8080/",
     "height": 513
    },
    "hidden": true,
    "id": "53acdc7f",
    "outputId": "a719c36a-9ca8-4139-a70b-af7a32691a5c"
   },
   "outputs": [
    {
     "data": {
      "text/html": [
       "<div>\n",
       "<style scoped>\n",
       "    .dataframe tbody tr th:only-of-type {\n",
       "        vertical-align: middle;\n",
       "    }\n",
       "\n",
       "    .dataframe tbody tr th {\n",
       "        vertical-align: top;\n",
       "    }\n",
       "\n",
       "    .dataframe thead th {\n",
       "        text-align: right;\n",
       "    }\n",
       "</style>\n",
       "<table border=\"1\" class=\"dataframe\">\n",
       "  <thead>\n",
       "    <tr style=\"text-align: right;\">\n",
       "      <th></th>\n",
       "      <th>Date</th>\n",
       "      <th>FEDFUNDS</th>\n",
       "    </tr>\n",
       "  </thead>\n",
       "  <tbody>\n",
       "    <tr>\n",
       "      <th>0</th>\n",
       "      <td>2012-06-01</td>\n",
       "      <td>0.16</td>\n",
       "    </tr>\n",
       "    <tr>\n",
       "      <th>1</th>\n",
       "      <td>2012-06-02</td>\n",
       "      <td>0.16</td>\n",
       "    </tr>\n",
       "    <tr>\n",
       "      <th>2</th>\n",
       "      <td>2012-06-03</td>\n",
       "      <td>0.16</td>\n",
       "    </tr>\n",
       "    <tr>\n",
       "      <th>3</th>\n",
       "      <td>2012-06-04</td>\n",
       "      <td>0.16</td>\n",
       "    </tr>\n",
       "    <tr>\n",
       "      <th>4</th>\n",
       "      <td>2012-06-05</td>\n",
       "      <td>0.16</td>\n",
       "    </tr>\n",
       "    <tr>\n",
       "      <th>...</th>\n",
       "      <td>...</td>\n",
       "      <td>...</td>\n",
       "    </tr>\n",
       "    <tr>\n",
       "      <th>4226</th>\n",
       "      <td>2023-12-27</td>\n",
       "      <td>5.33</td>\n",
       "    </tr>\n",
       "    <tr>\n",
       "      <th>4227</th>\n",
       "      <td>2023-12-28</td>\n",
       "      <td>5.33</td>\n",
       "    </tr>\n",
       "    <tr>\n",
       "      <th>4228</th>\n",
       "      <td>2023-12-29</td>\n",
       "      <td>5.33</td>\n",
       "    </tr>\n",
       "    <tr>\n",
       "      <th>4229</th>\n",
       "      <td>2023-12-30</td>\n",
       "      <td>5.33</td>\n",
       "    </tr>\n",
       "    <tr>\n",
       "      <th>4230</th>\n",
       "      <td>2023-12-31</td>\n",
       "      <td>5.33</td>\n",
       "    </tr>\n",
       "  </tbody>\n",
       "</table>\n",
       "<p>4231 rows × 2 columns</p>\n",
       "</div>"
      ],
      "text/plain": [
       "           Date  FEDFUNDS\n",
       "0    2012-06-01      0.16\n",
       "1    2012-06-02      0.16\n",
       "2    2012-06-03      0.16\n",
       "3    2012-06-04      0.16\n",
       "4    2012-06-05      0.16\n",
       "...         ...       ...\n",
       "4226 2023-12-27      5.33\n",
       "4227 2023-12-28      5.33\n",
       "4228 2023-12-29      5.33\n",
       "4229 2023-12-30      5.33\n",
       "4230 2023-12-31      5.33\n",
       "\n",
       "[4231 rows x 2 columns]"
      ]
     },
     "execution_count": 9,
     "metadata": {},
     "output_type": "execute_result"
    }
   ],
   "source": [
    "# Convertimos las fechas de nuestras variables a un tipo fecha en lugar de objeto\n",
    "for i in macros:\n",
    "    stocks_dict[i]['Date'] = pd.to_datetime(stocks_dict[i]['Date'])\n",
    "\n",
    "# Para cada variable macroeconómica\n",
    "for m in stocks_dict.keys():\n",
    "    if m in macros:\n",
    "        # Generamos un DF vacío que incluye todo el rango de fechas\n",
    "        temp = pd.DataFrame()\n",
    "        temp['Date'] = pd.to_datetime(date_range)\n",
    "\n",
    "        # Unimos el nuevo dataframe con el de la macroeconómica existente\n",
    "        temp = temp.merge(stocks_dict[m], on= 'Date', how= 'left')\n",
    "\n",
    "        # Imputamos el último valor conocido\n",
    "        temp.iloc[:,1] = temp.iloc[:,1].fillna(method='ffill')\n",
    "\n",
    "        # Reemplazamos el dataframe existente por el nuevo\n",
    "        stocks_dict[m] = temp\n",
    "\n",
    "stocks_dict['FEDFUNDS_DF']"
   ]
  },
  {
   "cell_type": "markdown",
   "id": "BF0Se8OVFUSd",
   "metadata": {
    "hidden": true,
    "id": "BF0Se8OVFUSd"
   },
   "source": [
    "**A continuación, presentamos un resumen de las características del conjunto de datos.**"
   ]
  },
  {
   "cell_type": "code",
   "execution_count": 10,
   "id": "4b8e5f4c",
   "metadata": {
    "ExecuteTime": {
     "end_time": "2024-02-26T05:26:25.726797Z",
     "start_time": "2024-02-26T05:26:25.328801Z"
    },
    "colab": {
     "base_uri": "https://localhost:8080/"
    },
    "hidden": true,
    "id": "4b8e5f4c",
    "outputId": "fb2ad1fb-486e-4ba6-d7f6-a4733873727b"
   },
   "outputs": [
    {
     "name": "stdout",
     "output_type": "stream",
     "text": [
      "***** FEDFUNDS_DF *****\n",
      "          FEDFUNDS\n",
      "count  4231.000000\n",
      "mean      1.120069\n",
      "std       1.485767\n",
      "min       0.050000\n",
      "25%       0.090000\n",
      "50%       0.360000\n",
      "75%       1.700000\n",
      "max       5.330000\n",
      "\n",
      "\n",
      "***** UNRATE_DF *****\n",
      "            UNRATE\n",
      "count  4231.000000\n",
      "mean      5.260671\n",
      "std       1.888745\n",
      "min       3.400000\n",
      "25%       3.800000\n",
      "50%       4.800000\n",
      "75%       6.200000\n",
      "max      14.800000\n",
      "\n",
      "\n",
      "***** ^NDX_DF *****\n",
      "               Open          High           Low         Close        Volume\n",
      "count   2914.000000   2914.000000   2914.000000   2914.000000  2.914000e+03\n",
      "mean    7727.255158   7782.537187   7668.648797   7729.470973  2.923642e+09\n",
      "std     4202.526633   4238.562810   4163.927109   4203.448103  1.517643e+09\n",
      "min     2458.969971   2480.969971   2443.919922   2458.830078  2.441200e+08\n",
      "25%     4297.375000   4324.500000   4273.190064   4296.544800  1.817850e+09\n",
      "50%     6636.185059   6692.505127   6578.689942   6643.979980  2.141175e+09\n",
      "75%    11633.947266  11764.110107  11529.650391  11675.142822  4.250430e+09\n",
      "max    16963.519531  16969.169922  16891.320313  16906.800781  1.162119e+10\n",
      "\n",
      "\n",
      "***** AAPL_DF *****\n",
      "              Open         High          Low        Close        Volume\n",
      "count  2914.000000  2914.000000  2914.000000  2914.000000  2.914000e+03\n",
      "mean     69.767093    70.522285    69.051708    69.819398  1.776664e+08\n",
      "std      56.027702    56.663723    55.442682    56.085904  1.470421e+08\n",
      "min      13.856071    14.271429    13.753571    13.947500  2.404830e+07\n",
      "25%      26.263126    26.540000    26.136250    26.343125  8.593920e+07\n",
      "50%      42.778750    43.148750    42.422499    42.768751  1.269872e+08\n",
      "75%     126.130623   127.473751   124.750002   125.897501  2.129063e+08\n",
      "max     198.020004   199.619995   197.000000   198.110001  1.460852e+09\n",
      "\n",
      "\n",
      "***** MSFT_DF *****\n",
      "              Open         High          Low        Close        Volume\n",
      "count  2914.000000  2914.000000  2914.000000  2914.000000  2.914000e+03\n",
      "mean    133.613442   134.937491   132.251287   133.661987  3.255691e+07\n",
      "std     102.821837   103.890475   101.716777   102.854943  1.671596e+07\n",
      "min      26.379999    26.629999    26.260000    26.370001  7.425600e+06\n",
      "25%      46.322501    46.799999    45.955001    46.417500  2.249298e+07\n",
      "50%      93.255001    94.064999    92.310001    93.125000  2.838190e+07\n",
      "75%     227.917499   231.307499   225.795002   227.517498  3.750138e+07\n",
      "max     383.760010   384.299988   378.160004   382.700012  2.484285e+08\n",
      "\n",
      "\n",
      "***** AMZN_DF *****\n",
      "              Open         High          Low        Close        Volume\n",
      "count  2914.000000  2914.000000  2914.000000  2914.000000  2.914000e+03\n",
      "mean     74.786404    75.651199    73.841355    74.763258  7.766748e+07\n",
      "std      53.605989    54.261170    52.890522    53.568445  4.084010e+07\n",
      "min      10.370000    10.561500    10.318500    10.411000  1.762600e+07\n",
      "25%      21.089251    21.296500    20.829499    21.066000  5.259968e+07\n",
      "50%      73.254749    74.950001    72.326252    73.252750  6.649635e+07\n",
      "75%     116.675001   118.656252   114.702501   116.352501  8.940950e+07\n",
      "max     187.199997   188.654007   184.839493   186.570496  4.771220e+08\n",
      "\n",
      "\n",
      "***** NVDA_DF *****\n",
      "              Open         High          Low        Close        Volume\n",
      "count  2914.000000  2914.000000  2914.000000  2914.000000  2.914000e+03\n",
      "mean     87.344328    88.912628    85.716690    87.387328  4.485414e+07\n",
      "std     114.544070   116.517730   112.418204   114.543846  2.478618e+07\n",
      "min       2.872500     2.907500     2.787500     2.845000  4.564400e+06\n",
      "25%       5.303125     5.423125     5.244375     5.318750  2.907510e+07\n",
      "50%      41.908749    42.433751    41.274999    41.816250  3.948240e+07\n",
      "75%     133.550003   135.521881   130.960003   133.412506  5.357422e+07\n",
      "max     502.160004   505.480011   494.119995   504.089996  3.692928e+08\n",
      "\n",
      "\n",
      "***** META_DF *****\n",
      "              Open         High          Low        Close        Volume\n",
      "count  2914.000000  2914.000000  2914.000000  2914.000000  2.914000e+03\n",
      "mean    158.004194   160.057303   156.023459   158.082231  3.026977e+07\n",
      "std      90.740811    91.909936    89.643540    90.796287  2.416603e+07\n",
      "min      18.080000    18.270000    17.549999    17.730000  5.467500e+06\n",
      "25%      81.147503    81.992498    80.464998    81.097498  1.631588e+07\n",
      "50%     154.885002   157.114998   152.409996   153.825004  2.289835e+07\n",
      "75%     204.490002   207.865005   202.087502   205.057503  3.504915e+07\n",
      "max     381.679993   384.329987   378.809998   382.179993  3.654579e+08\n",
      "\n",
      "\n",
      "***** AVGO_DF *****\n",
      "              Open         High          Low        Close        Volume\n",
      "count  2914.000000  2914.000000  2914.000000  2914.000000  2.914000e+03\n",
      "mean    286.036757   289.618054   282.476870   286.232100  2.724478e+06\n",
      "std     223.116716   226.151842   220.553370   223.576473  2.110511e+06\n",
      "min      30.580000    31.330000    30.180000    30.530001  4.123000e+05\n",
      "25%     121.490002   123.852499   119.462498   121.475000  1.696925e+06\n",
      "50%     243.420006   246.404999   240.584999   243.519997  2.249500e+06\n",
      "75%     446.559990   449.012497   434.672508   443.597504  3.080050e+06\n",
      "max    1142.000000  1151.819946  1132.510010  1147.000000  5.602800e+07\n",
      "\n",
      "\n",
      "***** TSLA_DF *****\n",
      "              Open         High          Low        Close        Volume\n",
      "count  2914.000000  2914.000000  2914.000000  2914.000000  2.914000e+03\n",
      "mean     81.950510    83.757514    80.004912    81.927930  1.095683e+08\n",
      "std     105.434816   107.789458   102.839697   105.349037  7.900659e+07\n",
      "min       1.789333     1.790000     1.701333     1.740000  5.637000e+06\n",
      "25%      14.242500    14.500000    13.939000    14.261833  6.137708e+07\n",
      "50%      19.846666    20.200001    19.447333    19.820334  9.114450e+07\n",
      "75%     171.387497   175.162498   166.762493   171.357494  1.326659e+08\n",
      "max     411.470001   414.496674   405.666656   409.970001  9.140820e+08\n",
      "\n",
      "\n",
      "***** GOOG_DF *****\n",
      "              Open         High          Low        Close        Volume\n",
      "count  2914.000000  2914.000000  2914.000000  2914.000000  2.914000e+03\n",
      "mean     62.308615    62.965476    61.693716    62.343877  4.144944e+07\n",
      "std      38.528230    38.995397    38.112377    38.554516  3.165099e+07\n",
      "min      13.956189    14.060299    13.861045    13.924059  1.584340e+05\n",
      "25%      29.101726    29.249072    28.865169    29.049495  2.398000e+07\n",
      "50%      52.539751    53.124376    51.920500    52.538250  3.113600e+07\n",
      "75%      89.805002    91.173748    88.814188    89.782498  4.770100e+07\n",
      "max     151.863495   152.100006   149.887497   150.709000  4.995615e+08\n",
      "\n",
      "\n",
      "***** GOOGL_DF *****\n",
      "              Open         High          Low        Close        Volume\n",
      "count  2914.000000  2914.000000  2914.000000  2914.000000  2.914000e+03\n",
      "mean     62.429571    63.080588    61.790892    62.452741  4.482939e+07\n",
      "std      37.983995    38.441581    37.552389    38.001899  3.132194e+07\n",
      "min      14.022523    14.127127    13.926927    13.990240  9.312000e+06\n",
      "25%      29.580747    29.755001    29.356251    29.562875  2.692400e+07\n",
      "50%      52.914501    53.585999    52.357500    52.840999  3.468500e+07\n",
      "75%      89.552498    90.761375    88.222747    89.320749  5.126100e+07\n",
      "max     151.250000   151.546494   148.899002   149.838501  4.971983e+08\n",
      "\n",
      "\n",
      "***** ADBE_DF *****\n",
      "              Open         High          Low        Close        Volume\n",
      "count  2914.000000  2914.000000  2914.000000  2914.000000  2.914000e+03\n",
      "mean    242.346846   245.246290   239.290288   242.414417  3.070670e+06\n",
      "std     181.870671   184.136770   179.425079   181.866783  1.772957e+06\n",
      "min      29.879999    30.309999    29.520000    29.820000  5.892000e+05\n",
      "25%      77.004999    77.820000    76.129999    77.092501  2.009950e+06\n",
      "50%     214.794999   220.490005   210.750000   216.004998  2.634450e+06\n",
      "75%     377.682503   382.817497   374.017494   377.915008  3.588875e+06\n",
      "max     696.280029   699.539978   678.909973   688.369995  2.784020e+07\n",
      "\n",
      "\n",
      "***** PEP_DF *****\n",
      "              Open         High          Low        Close        Volume\n",
      "count  2914.000000  2914.000000  2914.000000  2914.000000  2.914000e+03\n",
      "mean    120.644794   121.467677   119.782560   120.653456  4.756687e+06\n",
      "std      33.025364    33.278310    32.684953    32.985160  1.876782e+06\n",
      "min      67.019997    67.430000    66.660004    67.000000  8.833000e+05\n",
      "25%      96.149999    96.772498    95.594997    96.169998  3.590200e+06\n",
      "50%     112.954998   113.674999   112.199997   113.045002  4.405950e+06\n",
      "75%     143.535004   144.375004   142.407497   143.622494  5.480650e+06\n",
      "max     196.570007   196.880005   194.949997   196.119995  2.755970e+07\n",
      "\n",
      "\n",
      "***** COST_DF *****\n",
      "              Open         High          Low        Close        Volume\n",
      "count  2914.000000  2914.000000  2914.000000  2914.000000  2.914000e+03\n",
      "mean    260.975316   263.211383   258.772838   261.120285  2.293544e+06\n",
      "std     152.808500   154.409657   151.271951   152.949752  1.271820e+06\n",
      "min      85.440002    86.160004    85.169998    85.489998  4.910000e+05\n",
      "25%     143.502502   144.617496   142.517494   143.502502  1.576400e+06\n",
      "50%     191.525002   192.915001   189.964996   191.470001  1.974300e+06\n",
      "75%     368.897499   371.680000   366.622505   369.579994  2.583725e+06\n",
      "max     675.000000   681.909973   670.780029   681.239990  2.423300e+07\n",
      "\n",
      "\n",
      "***** CSCO_DF *****\n",
      "              Open         High          Low        Close        Volume\n",
      "count  2914.000000  2914.000000  2914.000000  2914.000000  2.914000e+03\n",
      "mean     37.763916    38.102217    37.433943    37.778720  2.562574e+07\n",
      "std      12.165734    12.274897    12.054187    12.167645  1.402470e+07\n",
      "min      15.200000    15.560000    14.960000    15.120000  5.720500e+06\n",
      "25%      26.950001    27.195000    26.670000    26.900000  1.728638e+07\n",
      "50%      39.280000    39.959999    38.785000    39.360000  2.192035e+07\n",
      "75%      47.897501    48.277499    47.419998    47.867500  2.977265e+07\n",
      "max      64.040001    64.290001    63.549999    63.959999  2.432554e+08\n",
      "\n",
      "\n",
      "***** CMCSA_DF *****\n",
      "              Open         High          Low        Close        Volume\n",
      "count  2914.000000  2914.000000  2914.000000  2914.000000  2.914000e+03\n",
      "mean     35.841747    36.191517    35.482306    35.845707  2.256296e+07\n",
      "std      10.033477    10.139631     9.925753    10.031401  1.112011e+07\n",
      "min      14.285000    14.420000    14.170000    14.315000  3.875300e+06\n",
      "25%      28.587500    28.843750    28.342500    28.587499  1.581285e+07\n",
      "50%      36.150002    36.555000    35.760000    36.164999  2.010100e+07\n",
      "75%      42.627500    43.024999    42.160000    42.599998  2.629662e+07\n",
      "max      61.430000    61.799999    61.330002    61.750000  1.665396e+08\n",
      "\n",
      "\n",
      "***** NFLX_DF *****\n",
      "              Open         High          Low        Close        Volume\n",
      "count  2914.000000  2914.000000  2914.000000  2914.000000  2.914000e+03\n",
      "mean    240.520284   244.199493   236.717342   240.551447  1.312718e+07\n",
      "std     176.366272   178.769466   173.776409   176.283158  1.365423e+07\n",
      "min       7.712857     7.925714     7.544286     7.685714  1.144000e+06\n",
      "25%      80.182501    81.095360    79.527146    80.131069  5.372200e+06\n",
      "50%     200.055001   203.534996   197.415000   200.070000  9.037800e+06\n",
      "75%     367.982498   373.792488   362.165001   367.840004  1.638510e+07\n",
      "max     692.349976   700.989990   686.090027   691.690002  1.914458e+08\n",
      "\n",
      "\n",
      "***** AMD_DF *****\n"
     ]
    },
    {
     "name": "stdout",
     "output_type": "stream",
     "text": [
      "              Open         High          Low        Close        Volume\n",
      "count  2914.000000  2914.000000  2914.000000  2914.000000  2.914000e+03\n",
      "mean     37.694931    38.465233    36.906352    37.700027  5.082053e+07\n",
      "std      41.564722    42.402870    40.693748    41.564032  3.700052e+07\n",
      "min       1.620000     1.690000     1.610000     1.620000  0.000000e+00\n",
      "25%       3.830000     3.900000     3.772500     3.830000  2.199885e+07\n",
      "50%      13.720000    13.930000    13.435000    13.710000  4.426585e+07\n",
      "75%      77.565001    78.807499    75.992500    77.509998  6.867305e+07\n",
      "max     163.279999   164.460007   156.100006   161.910004  3.250584e+08\n",
      "\n",
      "\n",
      "***** TMUS_DF *****\n",
      "              Open         High          Low        Close        Volume\n",
      "count  2914.000000  2914.000000  2914.000000  2914.000000  2.914000e+03\n",
      "mean     73.965199    74.750916    73.161108    73.981486  4.550196e+06\n",
      "std      43.362482    43.729260    42.972752    43.357623  3.712174e+06\n",
      "min      11.240000    11.560000    11.060000    11.180000  4.701000e+05\n",
      "25%      34.072501    34.509998    33.612500    34.032500  2.804425e+06\n",
      "50%      63.780000    64.194999    63.170001    63.725001  3.833300e+06\n",
      "75%     119.000000   120.000002   117.200001   118.537499  5.255288e+06\n",
      "max     159.949997   161.190002   159.020004   160.440002  6.894680e+07\n",
      "\n",
      "\n",
      "***** TXN_DF *****\n",
      "              Open         High          Low        Close        Volume\n",
      "count  2914.000000  2914.000000  2914.000000  2914.000000  2.914000e+03\n",
      "mean    101.904358   102.948995   100.837742   101.942697  5.759803e+06\n",
      "std      52.926662    53.498114    52.281284    52.924240  2.761269e+06\n",
      "min      26.490000    26.680000    26.059999    26.430000  1.044400e+06\n",
      "25%      52.450001    52.942499    51.822501    52.444999  3.967750e+06\n",
      "50%      98.954998   100.479999    97.790001    98.845001  5.066150e+06\n",
      "75%     155.105000   156.787495   153.387505   155.082501  6.807850e+06\n",
      "max     201.550003   202.259995   199.059998   201.289993  3.322960e+07\n",
      "\n",
      "\n",
      "***** INTU_DF *****\n",
      "              Open         High          Low        Close        Volume\n",
      "count  2914.000000  2914.000000  2914.000000  2914.000000  2.914000e+03\n",
      "mean    231.564108   234.322766   228.698638   231.655439  1.603410e+06\n",
      "std     163.290830   165.525511   160.882652   163.271854  8.372336e+05\n",
      "min      54.700001    55.590000    54.299999    54.799999  3.272000e+05\n",
      "25%      93.470001    94.407499    92.649999    93.714998  1.107800e+06\n",
      "50%     172.370003   174.360001   170.320000   172.045006  1.424200e+06\n",
      "75%     372.705010   379.447495   367.662499   373.332489  1.858625e+06\n",
      "max     715.869995   716.859985   681.460022   694.659973  1.592230e+07\n",
      "\n",
      "\n",
      "***** INTC_DF *****\n",
      "              Open         High          Low        Close        Volume\n",
      "count  2914.000000  2914.000000  2914.000000  2914.000000  2.914000e+03\n",
      "mean     39.188566    39.631235    38.761894    39.206500  3.154994e+07\n",
      "std      11.831942    11.995323    11.664090    11.829319  1.602210e+07\n",
      "min      19.520000    19.549999    19.230000    19.360001  5.893800e+06\n",
      "25%      29.730000    30.125000    29.472499    29.812499  2.132228e+07\n",
      "50%      35.980000    36.330002    35.570000    35.970001  2.799845e+07\n",
      "75%      49.259998    49.967500    48.660000    49.287500  3.681170e+07\n",
      "max      68.199997    69.290001    67.309998    68.470001  1.822699e+08\n",
      "\n",
      "\n",
      "***** AMGN_DF *****\n",
      "              Open         High          Low        Close        Volume\n",
      "count  2914.000000  2914.000000  2914.000000  2914.000000  2.914000e+03\n",
      "mean    182.180652   183.994465   180.313902   182.201170  3.220789e+06\n",
      "std      52.558289    53.053403    52.031712    52.551198  1.674308e+06\n",
      "min      67.769997    68.620003    67.610001    67.750000  6.128000e+05\n",
      "25%     150.799995   152.764996   148.635002   150.659996  2.253050e+06\n",
      "50%     178.139999   180.479996   176.835007   178.389999  2.805000e+06\n",
      "75%     229.467502   231.287495   227.075005   228.937500  3.714250e+06\n",
      "max     294.079987   296.670013   289.260010   292.390015  2.393680e+07\n",
      "\n",
      "\n",
      "***** AMAT_DF *****\n",
      "              Open         High          Low        Close        Volume\n",
      "count  2914.000000  2914.000000  2914.000000  2914.000000  2.914000e+03\n",
      "mean     56.897272    57.743260    56.048209    56.919784  1.092790e+07\n",
      "std      43.914697    44.634096    43.173802    43.933203  6.912768e+06\n",
      "min      10.060000    10.160000     9.950000    10.010000  1.409200e+06\n",
      "25%      20.219999    20.437500    19.995000    20.190001  7.134900e+06\n",
      "50%      43.109999    43.735000    42.740000    43.139999  9.764150e+06\n",
      "75%      87.802499    89.445000    86.562498    88.135000  1.310570e+07\n",
      "max     165.360001   167.059998   163.529999   167.000000  2.194152e+08\n",
      "\n",
      "\n",
      "***** QCOM_DF *****\n",
      "              Open         High          Low        Close        Volume\n",
      "count  2914.000000  2914.000000  2914.000000  2914.000000  2.914000e+03\n",
      "mean     85.856949    86.890559    84.818922    85.866987  1.083613e+07\n",
      "std      34.125647    34.743049    33.483524    34.118642  7.018825e+06\n",
      "min      42.509998    43.290001    42.240002    42.959999  2.120200e+06\n",
      "25%      61.292500    61.950001    60.662499    61.279999  7.200125e+06\n",
      "50%      71.005001    71.895001    70.360001    71.199997  9.261600e+06\n",
      "75%     114.467501   116.089996   112.647501   114.529999  1.231358e+07\n",
      "max     190.300003   193.580002   185.190002   189.279999  1.560193e+08\n",
      "\n",
      "\n",
      "***** HON_DF *****\n",
      "              Open         High          Low        Close        Volume\n",
      "count  2914.000000  2914.000000  2914.000000  2914.000000  2.914000e+03\n",
      "mean    139.244694   140.356930   138.082259   139.243401  3.083768e+06\n",
      "std      49.500016    49.940111    49.006218    49.470429  1.390646e+06\n",
      "min      50.528584    51.014805    49.775421    50.452316  6.255000e+05\n",
      "25%      96.283169    97.210325    95.625347    96.359440  2.253908e+06\n",
      "50%     139.387283   140.470329   137.994393   138.912849  2.793624e+06\n",
      "75%     181.837505   183.717499   180.417499   182.152504  3.561599e+06\n",
      "max     235.139999   236.860001   232.220001   234.179993  2.823710e+07\n",
      "\n",
      "\n",
      "***** BKNG_DF *****\n",
      "              Open         High          Low        Close        Volume\n",
      "count  2914.000000  2914.000000  2914.000000  2914.000000  2.914000e+03\n",
      "mean   1686.836585  1706.043176  1667.674399  1686.920642  5.239769e+05\n",
      "std     594.827314   602.031297   588.418980   595.195612  3.442166e+05\n",
      "min     555.000000   566.799988   553.419983   557.869995  9.730000e+04\n",
      "25%    1223.320007  1238.760010  1207.642517  1223.024994  3.177250e+05\n",
      "50%    1760.674988  1774.944946  1744.770019  1759.209961  4.330000e+05\n",
      "75%    2056.662597  2082.334961  2034.642548  2057.095092  6.225500e+05\n",
      "max    3580.620117  3580.620117  3540.179932  3566.649902  6.683700e+06\n",
      "\n",
      "\n",
      "***** SBUX_DF *****\n",
      "              Open         High          Low        Close        Volume\n",
      "count  2914.000000  2914.000000  2914.000000  2914.000000  2.914000e+03\n",
      "mean     66.946918    67.557790    66.320738    66.954645  9.155974e+06\n",
      "std      26.195197    26.441585    25.945855    26.197941  5.022771e+06\n",
      "min      21.799999    22.090000    21.520000    21.580000  1.847800e+06\n",
      "25%      48.905001    49.337499    48.385001    48.892501  6.089575e+06\n",
      "50%      59.130001    59.664999    58.590000    59.200001  7.893000e+06\n",
      "75%      88.657504    89.465000    87.804999    88.685001  1.065840e+07\n",
      "max     126.080002   126.320000   124.809998   126.059998  6.209110e+07\n",
      "\n",
      "\n",
      "***** ISRG_DF *****\n",
      "              Open         High          Low        Close        Volume\n",
      "count  2914.000000  2914.000000  2914.000000  2914.000000  2.914000e+03\n",
      "mean    150.827990   152.600530   148.986981   150.871587  2.691695e+06\n",
      "std      95.353305    96.491955    94.113881    95.353894  2.276518e+06\n",
      "min      39.063332    39.255554    38.495556    39.150002  4.041000e+05\n",
      "25%      57.724444    58.319167    57.097778    57.708333  1.578075e+06\n",
      "50%     141.154998   144.194999   139.559998   142.061661  2.176050e+06\n",
      "75%     230.050000   231.825001   227.391663   230.055000  3.003300e+06\n",
      "max     366.089996   369.690002   364.019989   365.420013  5.018670e+07\n",
      "\n",
      "\n",
      "***** ADP_DF *****\n",
      "              Open         High          Low        Close        Volume\n",
      "count  2914.000000  2914.000000  2914.000000  2914.000000  2.914000e+03\n",
      "mean    133.242695   134.388780   132.054830   133.298712  2.020130e+06\n",
      "std      61.316645    61.920140    60.675432    61.310839  1.184291e+06\n",
      "min      44.907814    45.302898    44.679543    44.705883  3.502000e+05\n",
      "25%      83.709999    84.459997    83.145000    83.662501  1.411070e+06\n",
      "50%     117.939999   118.900002   116.905003   117.700001  1.772950e+06\n",
      "75%     177.467502   178.460007   175.789997   177.452503  2.264644e+06\n",
      "max     273.890015   274.920013   263.910004   269.899994  2.983760e+07\n",
      "\n",
      "\n",
      "***** MDLZ_DF *****\n",
      "              Open         High          Low        Close        Volume\n",
      "count  2914.000000  2914.000000  2914.000000  2914.000000  2.914000e+03\n",
      "mean     48.003548    48.391771    47.604379    48.006393  8.218457e+06\n",
      "std      12.277250    12.352471    12.181707    12.268846  4.136046e+06\n",
      "min      25.030001    25.180000    24.500000    25.110001  1.833800e+06\n",
      "25%      39.545001    39.860001    39.257500    39.560001  5.690000e+06\n",
      "50%      44.299999    44.630001    43.914999    44.274999  7.230100e+06\n",
      "75%      57.990002    58.344999    57.427499    57.927499  9.415150e+06\n",
      "max      78.400002    78.589996    77.739998    78.360001  5.760870e+07\n",
      "\n",
      "\n",
      "***** GILD_DF *****\n",
      "              Open         High          Low        Close        Volume\n",
      "count  2914.000000  2914.000000  2914.000000  2914.000000  2.914000e+03\n",
      "mean     73.294470    74.054973    72.449212    73.265064  9.729198e+06\n",
      "std      17.632312    17.832140    17.369312    17.605790  6.096214e+06\n",
      "min      24.280001    24.600000    24.120001    24.254999  1.931000e+06\n",
      "25%      64.712499    65.352499    64.102499    64.809998  6.277750e+06\n",
      "50%      72.244999    72.800003    71.440002    72.240002  8.330550e+06\n",
      "75%      81.167500    81.944998    80.180000    80.995001  1.114818e+07\n",
      "max     122.480003   123.370003   121.650002   122.209999  9.434850e+07\n",
      "\n",
      "\n"
     ]
    }
   ],
   "source": [
    "for df in stocks_dict.keys():\n",
    "    print('***** '+ df +' *****')\n",
    "    print(stocks_dict[df].describe())\n",
    "    print()\n",
    "    print()"
   ]
  },
  {
   "cell_type": "markdown",
   "id": "VrOwhZNTY377",
   "metadata": {
    "hidden": true,
    "id": "VrOwhZNTY377"
   },
   "source": [
    "**Ahora se están graficando las variables con el objetivo de identificar posibles valores atípicos.**"
   ]
  },
  {
   "cell_type": "code",
   "execution_count": 11,
   "id": "57f39e1c",
   "metadata": {
    "ExecuteTime": {
     "end_time": "2024-02-26T05:26:25.742297Z",
     "start_time": "2024-02-26T05:26:25.729298Z"
    },
    "colab": {
     "base_uri": "https://localhost:8080/",
     "height": 1000
    },
    "hidden": true,
    "id": "57f39e1c",
    "outputId": "c16b5d13-435b-4ecc-ac44-d8b16de08ebe",
    "scrolled": true
   },
   "outputs": [],
   "source": [
    "# # Graficaremos cada variable\n",
    "# num_ticks = 10\n",
    "\n",
    "# for df in stocks_dict.keys():\n",
    "#     if df in macros:\n",
    "#         fig, ax = plt.subplots()\n",
    "\n",
    "#         ax.plot(stocks_dict[df]['Date'],stocks_dict[df].iloc[:,1], linestyle= '-', color='b')\n",
    "\n",
    "#         fig.autofmt_xdate()\n",
    "#         plt.xticks(stocks_dict[df]['Date'][::len(stocks_dict[df]['Date']) // num_ticks])\n",
    "\n",
    "#         plt.title(df)\n",
    "#         plt.xlabel(stocks_dict[df].columns[0])\n",
    "#         plt.ylabel(stocks_dict[df].columns[1])\n",
    "\n",
    "#     if df in stocks:\n",
    "#         fig, ax = plt.subplots()\n",
    "\n",
    "#         ax.plot(stocks_dict[df]['Date'],stocks_dict[df].iloc[:,1], label= 'Open Price', linestyle= '-', color='b')\n",
    "#         #ax.plot(stocks_dict[df]['Date'],stocks_dict[df].iloc[:,2], label= 'Close Price', linestyle= '--', color='r')\n",
    "\n",
    "#         fig.autofmt_xdate()\n",
    "#         plt.xticks(stocks_dict[df]['Date'][::len(stocks_dict[df]['Date']) // num_ticks])\n",
    "\n",
    "#         plt.title(df)\n",
    "#         plt.xlabel(stocks_dict[df].columns[0])\n",
    "#         plt.ylabel(stocks_dict[df].columns[1] + ' Price')\n",
    "\n",
    "# plt.show()"
   ]
  },
  {
   "cell_type": "markdown",
   "id": "YDVBFhpRY17C",
   "metadata": {
    "hidden": true,
    "id": "YDVBFhpRY17C"
   },
   "source": [
    "Las gráficas anteriores indican que no existen valores atípicos en la variable seleccionada."
   ]
  },
  {
   "cell_type": "markdown",
   "id": "8UxIIitsZuWN",
   "metadata": {
    "hidden": true,
    "id": "8UxIIitsZuWN"
   },
   "source": [
    "**Análisis de cardinalidad.**\n",
    "\n",
    "Si buscamos determinar la cardinalidad de las variables, podemos afirmar que no hay variables categóricas para analizar. Sin embargo, incluso al intentar analizar la cardinalidad de las variables no categóricas, podemos utilizar las gráficas anteriores para observar que varía de manera diferente en cada empresa, pero en general tiende a ser alta cuando consideramos un plazo de tiempo también extenso."
   ]
  },
  {
   "cell_type": "markdown",
   "id": "KWZrK1jMlhSe",
   "metadata": {
    "hidden": true,
    "id": "KWZrK1jMlhSe"
   },
   "source": [
    "**Tendencias temporales**\n",
    "\n",
    "Con base en las gráficas anteriores, también es posible identificar tendencias temporales, las cuales son comunes en este tipo de variables a lo largo del tiempo. Se observa que prácticamente todas las empresas muestran tendencias temporales, como el ejemplo de Amazon, donde se aprecia un crecimiento significativo durante el 2020 y una estabilidad relativa hasta el 2022."
   ]
  },
  {
   "cell_type": "markdown",
   "id": "t3JvhBAUcXrE",
   "metadata": {
    "hidden": true,
    "id": "t3JvhBAUcXrE"
   },
   "source": [
    "**A continuación, realizaremos un análisis de distribución para cada variable numérica de los dataframes. Este análisis nos permitirá identificar si las variables tienen una distribución normal o si están sesgadas.**"
   ]
  },
  {
   "cell_type": "code",
   "execution_count": null,
   "id": "TsQdp1ZsfyKE",
   "metadata": {
    "ExecuteTime": {
     "start_time": "2024-02-26T05:26:18.509Z"
    },
    "colab": {
     "base_uri": "https://localhost:8080/",
     "height": 1000
    },
    "hidden": true,
    "id": "TsQdp1ZsfyKE",
    "outputId": "b7dc1e17-a5b9-47e7-a307-6ac5e098c3ea"
   },
   "outputs": [
    {
     "data": {
      "image/png": "[encoded data removed]",
      "text/plain": [
       "<Figure size 1000x600 with 1 Axes>"
      ]
     },
     "metadata": {},
     "output_type": "display_data"
    },
    {
     "data": {
      "image/png": "[encoded data removed]",
      "text/plain": [
       "<Figure size 1000x600 with 1 Axes>"
      ]
     },
     "metadata": {},
     "output_type": "display_data"
    },
    {
     "data": {
      "image/png": "[encoded data removed]",
      "text/plain": [
       "<Figure size 1000x600 with 1 Axes>"
      ]
     },
     "metadata": {},
     "output_type": "display_data"
    },
    {
     "data": {
      "image/png": "[encoded data removed]",
      "text/plain": [
       "<Figure size 1000x600 with 1 Axes>"
      ]
     },
     "metadata": {},
     "output_type": "display_data"
    },
    {
     "data": {
      "image/png": "[encoded data removed]",
      "text/plain": [
       "<Figure size 1000x600 with 1 Axes>"
      ]
     },
     "metadata": {},
     "output_type": "display_data"
    },
    {
     "data": {
      "image/png": "[encoded data removed]",
      "text/plain": [
       "<Figure size 1000x600 with 1 Axes>"
      ]
     },
     "metadata": {},
     "output_type": "display_data"
    },
    {
     "data": {
      "image/png": "[encoded data removed]",
      "text/plain": [
       "<Figure size 1000x600 with 1 Axes>"
      ]
     },
     "metadata": {},
     "output_type": "display_data"
    }
   ],
   "source": [
    "for df in stocks_dict.keys():\n",
    "  if df in stocks:\n",
    "\n",
    "    sesgo = skew(stocks_dict[df]['Open'])\n",
    "\n",
    "    if abs(sesgo) > 0.5:\n",
    "        tipo_sesgo = \"Sesgado positivo\"\n",
    "    elif abs(sesgo) < -0.5:\n",
    "      tipo_sesgo = \"Sesgado negativo\"\n",
    "    else:\n",
    "        tipo_sesgo = \"No sesgado\"\n",
    "\n",
    "    plt.figure(figsize=(10, 6))\n",
    "    sns.histplot(stocks_dict[df]['Open'], kde=True, color='skyblue')\n",
    "    plt.title(f'Distribución de la variable Open para {df}\\nSesgo: {sesgo:.2f} ({tipo_sesgo})')\n",
    "    plt.xlabel('Open')\n",
    "    plt.ylabel('Frecuencia')\n",
    "    plt.show()\n",
    "\n"
   ]
  },
  {
   "cell_type": "markdown",
   "id": "FSTiHO1zipJG",
   "metadata": {
    "hidden": true,
    "id": "FSTiHO1zipJG"
   },
   "source": [
    "Analizando los resultados, observamos que la mayoría de las variables presentan un sesgo positivo, mientras que una minoría no muestra sesgo alguno.\n",
    "\n",
    "Por el momento no estaremos realizando transformaciones no lineales a los datos, mas bien buscaremos primero implementar modelos que no usen este requisito, aunque no se descarta que en un futuro se regrese a explorar esta posibilidad para mejorar los modelos"
   ]
  },
  {
   "cell_type": "markdown",
   "id": "b01a1b15",
   "metadata": {
    "hidden": true,
    "id": "b01a1b15"
   },
   "source": [
    "**Análisis de las variables dependientes e independientes.**\n",
    "\n",
    "A continuación se hará un análisis de correlación sobre las variables identificadas:"
   ]
  },
  {
   "cell_type": "code",
   "execution_count": null,
   "id": "0bd8c8f2",
   "metadata": {
    "ExecuteTime": {
     "start_time": "2024-02-26T05:26:18.512Z"
    },
    "colab": {
     "base_uri": "https://localhost:8080/",
     "height": 455
    },
    "hidden": true,
    "id": "0bd8c8f2",
    "outputId": "da39fa43-86cd-452f-d6ec-b1adac8dd956"
   },
   "outputs": [],
   "source": [
    "# Convertimos las fechas de nuestras variables a un tipo fecha en lugar de objeto\n",
    "for i in stocks:\n",
    "    stocks_dict[i].iloc[:,0] = pd.to_datetime(stocks_dict[i].iloc[:,0])\n",
    "\n",
    "# Para cada dataframe, asignamos como índice la columna de la fecha\n",
    "for df in stocks_dict.keys():\n",
    "#    if df in stocks:\n",
    "        stocks_dict[df].set_index('Date', inplace= True)\n",
    "        stocks_dict[df].columns = [f'{df}_{col}' for col in stocks_dict[df].columns]\n",
    "\n",
    "stocks_dict['AAPL_DF']"
   ]
  },
  {
   "cell_type": "code",
   "execution_count": null,
   "id": "d9599db0",
   "metadata": {
    "ExecuteTime": {
     "start_time": "2024-02-26T05:26:18.514Z"
    },
    "colab": {
     "base_uri": "https://localhost:8080/",
     "height": 649
    },
    "hidden": true,
    "id": "d9599db0",
    "outputId": "7c4f8aa2-5bb1-4134-d5a6-9d7891569a2c"
   },
   "outputs": [],
   "source": [
    "# Unimos los dataframes con la fecha como índice\n",
    "#first_key = next(iter(stocks_dict))\n",
    "#first_key\n",
    "\n",
    "#for df in stocks_dict.keys():\n",
    "#    if df == first_key:\n",
    "#        merged_stocks = stocks_dict[df]\n",
    "#    else:\n",
    "#        merged_stocks = pd.merge(merged_stocks, stocks_dict[df], how='left', left_index=True, right_index=True)\n",
    "\n",
    "#merged_stocks.set_index('Date', inplace= True)\n",
    "#merged_stocks"
   ]
  },
  {
   "cell_type": "code",
   "execution_count": null,
   "id": "61755a99",
   "metadata": {
    "ExecuteTime": {
     "start_time": "2024-02-26T05:26:18.515Z"
    },
    "colab": {
     "base_uri": "https://localhost:8080/",
     "height": 1000
    },
    "hidden": true,
    "id": "61755a99",
    "outputId": "6202668a-362f-4750-998c-c5f78fe84ea7"
   },
   "outputs": [],
   "source": [
    "#Calculamos la correlación entre las variables\n",
    "#plt.figure(figsize=(24,16))\n",
    "#sns.heatmap(merged_stocks.corr(), cmap='coolwarm', linewidths = 1, annot=True, annot_kws={\"fontsize\":8})\n",
    "#plt.show()"
   ]
  },
  {
   "cell_type": "markdown",
   "id": "c3e4ab57",
   "metadata": {
    "hidden": true,
    "id": "c3e4ab57"
   },
   "source": [
    "Como resultado del análisis se puede observar que las variables de volumen de operación son las que tienen menos correlación contra todas las demas, seguidas de las variables macroeconómicas de la tasa de interés y tasa de desempleo. Finalmente en rojo se aprecian que en general los precios de apertura y cierre de una misma acción tienen una alta correlación mientras también una correlación (un poco más debil) contra precios de otras acciones."
   ]
  },
  {
   "cell_type": "markdown",
   "id": "2GUWhBnTy5Aw",
   "metadata": {
    "hidden": true,
    "id": "2GUWhBnTy5Aw"
   },
   "source": [
    "**Distribución de los datos por categorías.**\n",
    "\n",
    "Al no disponer de variables categóricas, no es posible identificar distribuciones en los datos de manera convencional."
   ]
  },
  {
   "cell_type": "markdown",
   "id": "rcSEUEg7zdD7",
   "metadata": {
    "hidden": true,
    "id": "rcSEUEg7zdD7"
   },
   "source": [
    "**Patrones o agrupaciones (clusters) de datos.**\n",
    "\n",
    "La tendencia de los datos utilizados sugiere que no existen patrones o agrupaciones discernibles en este conjunto."
   ]
  },
  {
   "cell_type": "markdown",
   "id": "gya26hdRzw2O",
   "metadata": {
    "hidden": true,
    "id": "gya26hdRzw2O"
   },
   "source": [
    "**Normalización de imágenes.**\n",
    "\n",
    "Para este proyecto no es necesario el uso de imágenes."
   ]
  },
  {
   "cell_type": "markdown",
   "id": "lUqCtJNH0IYE",
   "metadata": {
    "hidden": true,
    "id": "lUqCtJNH0IYE"
   },
   "source": [
    "**¿Hay desequilibrio en las clases de la variable objetivo?**\n",
    "\n",
    "Por el momento no se ha definido formalmente una variable objetivo, se pretende realizar la predicción del ^NDX_DF_Open, que representa el precio de apertura del índice bursatil, en el presente análisis todavía se presenta como un valor numérico. Sin embargo en futuras entregas se pretende evaluar si es más conveniente convertirlo en una variable categórica que represente si al día t+1 aumentó o disminuyó su valor respecto al cierre del día t. Esto considerando el objetivo de tener una estrategia de inversión que nos permite identificar qué es más conveniente, si mantener el ETF o venderlo a final de día."
   ]
  },
  {
   "cell_type": "markdown",
   "id": "c7996585",
   "metadata": {
    "heading_collapsed": true,
    "id": "c7996585"
   },
   "source": [
    "# Ingeniería de características (FE - Feature Engineering)"
   ]
  },
  {
   "cell_type": "markdown",
   "id": "ZDp7MnOGVR-s",
   "metadata": {
    "hidden": true,
    "id": "ZDp7MnOGVR-s"
   },
   "source": [
    "**Construcción**\n",
    "\n",
    "Ahora incorporamos una nueva característica a cada conjunto de datos: la variación diaria entre la apertura y el cierre del mercado, con el objetivo de analizar y visualizar esta tendencia.\n",
    "\n",
    " La variación diaria entre la apertura y el cierre del mercado es una métrica relevante que puede enriquecer la información disponible para el modelo de predicción de acciones, ofreciendo una perspectiva más detallada sobre la dinámica diaria del mercado de valores."
   ]
  },
  {
   "cell_type": "code",
   "execution_count": null,
   "id": "rlY-40aGVS-p",
   "metadata": {
    "ExecuteTime": {
     "start_time": "2024-02-26T05:26:18.520Z"
    },
    "hidden": true,
    "id": "rlY-40aGVS-p"
   },
   "outputs": [],
   "source": [
    "# A cada DF se le calculará su volatilidad diaria como la diferencia entre las columnas High y Low, dividiendo entre Open\n",
    "for df in stocks_dict.keys():\n",
    "    if df in stocks:\n",
    "        \n",
    "        vol = (stocks_dict[df].iloc[:, 1].values - stocks_dict[df].iloc[:, 2].values) / stocks_dict[df].iloc[:, 0].values\n",
    "        stocks_dict[df][df +'_Vola'] = vol\n",
    "\n",
    "stocks_dict[random.choice(stocks)].head()"
   ]
  },
  {
   "cell_type": "code",
   "execution_count": null,
   "id": "G46_6nfAaIoU",
   "metadata": {
    "ExecuteTime": {
     "start_time": "2024-02-26T05:26:18.522Z"
    },
    "colab": {
     "base_uri": "https://localhost:8080/",
     "height": 455
    },
    "hidden": true,
    "id": "G46_6nfAaIoU",
    "outputId": "1aa83b9a-af4f-4b36-b0d9-5139a2be4229"
   },
   "outputs": [],
   "source": [
    "# A cada DF le calcularemos el retorno diario como la diferencia entre el Close de hoy y el Close de ayer\n",
    "for df in stocks_dict.keys():\n",
    "    if df in stocks:\n",
    "        \n",
    "        ret = (stocks_dict[df].iloc[:, 3].values - stocks_dict[df].iloc[:, 3].shift(1).values) / stocks_dict[df].iloc[:, 3].shift(1).values\n",
    "        stocks_dict[df][df +'_DRet'] = ret\n",
    "\n",
    "stocks_dict[random.choice(stocks)].head()"
   ]
  },
  {
   "cell_type": "code",
   "execution_count": null,
   "id": "db0196b6",
   "metadata": {
    "ExecuteTime": {
     "start_time": "2024-02-26T05:26:18.524Z"
    },
    "hidden": true
   },
   "outputs": [],
   "source": [
    "# A cada DF le calcularemos la presion a la baja como la diferencia entre High y Close\n",
    "for df in stocks_dict.keys():\n",
    "    if df in stocks:\n",
    "        \n",
    "        dpre = stocks_dict[df].iloc[:, 1].values - stocks_dict[df].iloc[:, 3].values\n",
    "        stocks_dict[df][df +'_DPre'] = dpre\n",
    "\n",
    "stocks_dict[random.choice(stocks)].head()"
   ]
  },
  {
   "cell_type": "code",
   "execution_count": null,
   "id": "ec148b99",
   "metadata": {
    "ExecuteTime": {
     "start_time": "2024-02-26T05:26:18.526Z"
    },
    "hidden": true
   },
   "outputs": [],
   "source": [
    "# A cada DF le calcularemos la presion a la alza como la diferencia entre Low y Open\n",
    "for df in stocks_dict.keys():\n",
    "    if df in stocks:\n",
    "        \n",
    "        upre = stocks_dict[df].iloc[:, 2].values - stocks_dict[df].iloc[:, 0].values\n",
    "        stocks_dict[df][df +'_UPre'] = upre\n",
    "\n",
    "stocks_dict[random.choice(stocks)].head()"
   ]
  },
  {
   "cell_type": "code",
   "execution_count": null,
   "id": "6d24ae15",
   "metadata": {
    "ExecuteTime": {
     "start_time": "2024-02-26T05:26:18.527Z"
    },
    "colab": {
     "base_uri": "https://localhost:8080/",
     "height": 649
    },
    "hidden": true,
    "id": "6d24ae15",
    "outputId": "372e6121-c452-47c9-f877-8f7a2c5fbddf",
    "scrolled": false
   },
   "outputs": [],
   "source": [
    "# A cada DF le añadiremos un promedio movil sobre Close en ciertos intervalos de tiempo para representar tendencia\n",
    "# Definimos los dias de tendencia hacia atrás que deseamos revisar\n",
    "horizons = [5, 10, 20]\n",
    "\n",
    "# Calculamos el promedio móvil para cada horizonte\n",
    "for df in stocks_dict.keys():\n",
    "    if df in stocks:\n",
    "        \n",
    "        for h in horizons:\n",
    "            mave = stocks_dict[df].iloc[:, 3].rolling(h).mean()\n",
    "            stocks_dict[df][df + '_MAve' + f'{h}'] = mave\n",
    "\n",
    "stocks_dict[random.choice(stocks)].head()"
   ]
  },
  {
   "cell_type": "code",
   "execution_count": null,
   "id": "5c4b21bc",
   "metadata": {
    "ExecuteTime": {
     "start_time": "2024-02-26T05:26:18.529Z"
    },
    "hidden": true
   },
   "outputs": [],
   "source": [
    "# A cada DF le añadiremos la desviación estándar sobre Close en ciertos intervalos de tiempo para representar variablidad\n",
    "# Calculamos el promedio móvil para cada horizonte\n",
    "for df in stocks_dict.keys():\n",
    "    if df in stocks:\n",
    "        \n",
    "        for h in horizons:\n",
    "            std = stocks_dict[df].iloc[:, 3].rolling(h).std()\n",
    "            stocks_dict[df][df + '_Std' + f'{h}'] = std\n",
    "\n",
    "stocks_dict[random.choice(stocks)].head()"
   ]
  },
  {
   "cell_type": "markdown",
   "id": "72ac6b43",
   "metadata": {
    "hidden": true,
    "id": "72ac6b43"
   },
   "source": [
    "Vamos a buscar en específico el ^NDX_DF. Este dataframe contiene en específico el índice bursatil que deseamos predecir. Lo que haremos será agregar una nueva columna que nos indique el precio del día siguiente, posteriormente haremos una comparación entre el precio de cierre y el precio del día siguiente y, con el resultado de la comparación, definiremos la variable objetivo binaria que nos dice si el precio subió o bajó."
   ]
  },
  {
   "cell_type": "code",
   "execution_count": null,
   "id": "f16b7a31",
   "metadata": {
    "ExecuteTime": {
     "start_time": "2024-02-26T05:26:18.532Z"
    },
    "hidden": true,
    "id": "f16b7a31"
   },
   "outputs": [],
   "source": [
    "# Insertamos columna con el precio de apertura del día siguiente\n",
    "stocks_dict['^NDX_DF']['^NDX_DF_Tomorrow'] = stocks_dict['^NDX_DF']['^NDX_DF_Open'].shift(-1)\n",
    "\n",
    "# Insertamos columna binaria que indica si subió o bajó el precio\n",
    "stocks_dict['^NDX_DF']['^NDX_DF_Target'] = (stocks_dict['^NDX_DF']['^NDX_DF_Tomorrow'] > stocks_dict['^NDX_DF']['^NDX_DF_Close']).astype(int)\n",
    "\n",
    "# Ya calculado el objetivo, quitaremos de la data la columna de tomorrow para evitar leakage\n",
    "stocks_dict['^NDX_DF'].drop('^NDX_DF_Tomorrow', axis= 1, inplace= True)\n",
    "\n",
    "stocks_dict['^NDX_DF'].head()"
   ]
  },
  {
   "cell_type": "markdown",
   "id": "94a3c7d1",
   "metadata": {
    "hidden": true
   },
   "source": [
    "Continuamos por unir todos los dataframes en uno solo para armar nuestra variable X"
   ]
  },
  {
   "cell_type": "code",
   "execution_count": null,
   "id": "33f17552",
   "metadata": {
    "ExecuteTime": {
     "start_time": "2024-02-26T05:26:18.534Z"
    },
    "colab": {
     "base_uri": "https://localhost:8080/",
     "height": 649
    },
    "hidden": true,
    "id": "33f17552",
    "outputId": "1209e2f8-5f79-4295-a2ac-6e1a01706bc1",
    "scrolled": false
   },
   "outputs": [],
   "source": [
    "# Generamos dataframe con toda la información junta\n",
    "# Unimos los dataframes con la fecha como índice\n",
    "first_key = next(iter(stocks_dict))\n",
    "first_key\n",
    "\n",
    "for df in stocks_dict.keys():\n",
    "    if df == first_key:\n",
    "        X = stocks_dict[df]\n",
    "    else:\n",
    "        X = pd.merge(X, stocks_dict[df], how='left', left_index=True, right_index=True)\n",
    "\n",
    "\n",
    "# Quitamos las filas donde no habia suficiente información para calcular y tenemos NaN\n",
    "X = X.dropna()\n",
    "X.head()"
   ]
  },
  {
   "cell_type": "markdown",
   "id": "9a04565b",
   "metadata": {
    "hidden": true
   },
   "source": [
    "Como última característica añadiremos una columna que nos indique la cantidad de dias transcurridos entre la observación previa y la actual"
   ]
  },
  {
   "cell_type": "code",
   "execution_count": null,
   "id": "16697cbd",
   "metadata": {
    "ExecuteTime": {
     "start_time": "2024-02-26T05:26:18.537Z"
    },
    "hidden": true
   },
   "outputs": [],
   "source": [
    "# Calcular la diferencia entre las fechas, restar 1 dia (deferencia normal) y tirar filas con NA\n",
    "X['MissDays'] = (X.index.to_series().diff().dt.days - 1)\n",
    "X = X.dropna()\n",
    "X['MissDays'] = X['MissDays'].astype(int)\n",
    "\n",
    "X.head()"
   ]
  },
  {
   "cell_type": "markdown",
   "id": "f2c7934c",
   "metadata": {
    "hidden": true
   },
   "source": [
    "Finalmente separaremos nuestra columna objetivo para generar el dataframe Y"
   ]
  },
  {
   "cell_type": "code",
   "execution_count": null,
   "id": "1077746b",
   "metadata": {
    "ExecuteTime": {
     "start_time": "2024-02-26T05:26:18.539Z"
    },
    "colab": {
     "base_uri": "https://localhost:8080/",
     "height": 455
    },
    "hidden": true,
    "id": "1077746b",
    "outputId": "a752d9a1-a4ee-470c-a6ab-0a49c66152f8"
   },
   "outputs": [],
   "source": [
    "# Separamos nuestros dataframe en variables independientes (X) y dependientes/objetivo (Y)\n",
    "Y = X.pop('^NDX_DF_Target').to_frame().astype(int)\n",
    "\n",
    "Y.head()"
   ]
  },
  {
   "cell_type": "markdown",
   "id": "4d324e1f",
   "metadata": {
    "heading_collapsed": true
   },
   "source": [
    "# Estandarización y Normalización"
   ]
  },
  {
   "cell_type": "markdown",
   "id": "a4ef5fcb",
   "metadata": {
    "hidden": true
   },
   "source": [
    "A continuación vamos a realizar una estandarización para que todas las variables independientes se encuentren con una media de 0 y una desviación estándar de 1"
   ]
  },
  {
   "cell_type": "code",
   "execution_count": null,
   "id": "a5688c2d",
   "metadata": {
    "ExecuteTime": {
     "start_time": "2024-02-26T05:26:18.542Z"
    },
    "hidden": true
   },
   "outputs": [],
   "source": [
    "# Iniciamos el escalador y ajustamos sobre nuestra información\n",
    "std_scaler = StandardScaler()\n",
    "\n",
    "X_std = pd.DataFrame(std_scaler.fit_transform(X), columns=X.columns, index= X.index)\n",
    "\n",
    "X_std.head()"
   ]
  },
  {
   "cell_type": "markdown",
   "id": "eb661942",
   "metadata": {
    "ExecuteTime": {
     "end_time": "2024-02-03T01:26:31.838681Z",
     "start_time": "2024-02-03T01:26:31.832680Z"
    },
    "hidden": true,
    "id": "eb661942"
   },
   "source": [
    "Se utilizará una normalización basada en MinMax con la finalidad de evitar que los rangos de ciertas variables tengan mayor peso que otras."
   ]
  },
  {
   "cell_type": "code",
   "execution_count": null,
   "id": "fb71248f",
   "metadata": {
    "ExecuteTime": {
     "start_time": "2024-02-26T05:26:18.544Z"
    },
    "colab": {
     "base_uri": "https://localhost:8080/",
     "height": 649
    },
    "hidden": true,
    "id": "fb71248f",
    "outputId": "a863d01a-21a7-4cf3-98e9-70f550604d06"
   },
   "outputs": [],
   "source": [
    "# Inicializamos el escalador y ajustamos sobre nuestra información\n",
    "nor_scaler = MinMaxScaler()\n",
    "\n",
    "X_nor = pd.DataFrame(nor_scaler.fit_transform(X_std), columns= X_std.columns, index= X_std.index)\n",
    "\n",
    "X_nor.head()"
   ]
  },
  {
   "cell_type": "markdown",
   "id": "7e18e967",
   "metadata": {
    "ExecuteTime": {
     "end_time": "2024-02-03T01:26:32.302249Z",
     "start_time": "2024-02-03T01:26:32.287749Z"
    },
    "heading_collapsed": true,
    "id": "7e18e967"
   },
   "source": [
    "# Partición de la data"
   ]
  },
  {
   "cell_type": "markdown",
   "id": "330eefa9",
   "metadata": {
    "hidden": true
   },
   "source": [
    "Previo a comenzar a revisar cada una de la variables y de evaluar si deben permanecer en el modelo o no, realizaremos la partición de la data en entrenamiento (70%), pruebas (20%) y validación (10%)"
   ]
  },
  {
   "cell_type": "code",
   "execution_count": null,
   "id": "6b5451fb",
   "metadata": {
    "ExecuteTime": {
     "start_time": "2024-02-26T05:26:18.547Z"
    },
    "hidden": true
   },
   "outputs": [],
   "source": [
    "# Definimos nuestra partición objetivo y calculamos su posición en nuestra data\n",
    "q_70 = int(len(X_nor) * 0.7)\n",
    "q_90 = int(len(X_nor) * 0.9)\n",
    "\n",
    "X_tt, y_tt = X_nor[:q_70], Y[:q_70]\n",
    "X_test, y_test = X_nor[q_70:q_90], Y[q_70:q_90]\n",
    "X_val, y_val = X_nor[q_90:], Y[q_90:]\n",
    "\n",
    "var_names = X_tt.columns.tolist()"
   ]
  },
  {
   "cell_type": "code",
   "execution_count": null,
   "id": "369a1490",
   "metadata": {
    "ExecuteTime": {
     "start_time": "2024-02-26T05:26:18.549Z"
    },
    "hidden": true
   },
   "outputs": [],
   "source": [
    "# Convertimos la variable objetivo a un arreglo de 1 dimension, ya que varios modelos lo requieren así\n",
    "y_tt = y_tt.iloc[:,0].values\n",
    "y_test = y_test.iloc[:,0].values\n",
    "y_val = y_val.iloc[:,0].values\n",
    "\n",
    "print(y_tt)\n",
    "print(y_test)\n",
    "print(y_val)"
   ]
  },
  {
   "cell_type": "code",
   "execution_count": null,
   "id": "b311cbaa",
   "metadata": {
    "ExecuteTime": {
     "start_time": "2024-02-26T05:26:18.550Z"
    },
    "hidden": true
   },
   "outputs": [],
   "source": [
    "# Visualizamos los indices para validar que siga ordenada la data\n",
    "X_tt.index"
   ]
  },
  {
   "cell_type": "code",
   "execution_count": null,
   "id": "6fd7e794",
   "metadata": {
    "ExecuteTime": {
     "start_time": "2024-02-26T05:26:18.552Z"
    },
    "hidden": true
   },
   "outputs": [],
   "source": [
    "# Visualizamos los indices para validar que siga ordenada la data\n",
    "X_test.index"
   ]
  },
  {
   "cell_type": "code",
   "execution_count": null,
   "id": "6dc2d298",
   "metadata": {
    "ExecuteTime": {
     "start_time": "2024-02-26T05:26:18.554Z"
    },
    "hidden": true
   },
   "outputs": [],
   "source": [
    "# Visualizamos los indices para validar que siga ordenada la data\n",
    "X_val.index"
   ]
  },
  {
   "cell_type": "markdown",
   "id": "a7cdd4bb",
   "metadata": {
    "hidden": true
   },
   "source": [
    "Ahora realizamos las particiones para el cross validation dentro del conjunto de entrenamiento/pruebas"
   ]
  },
  {
   "cell_type": "code",
   "execution_count": null,
   "id": "11d2ff61",
   "metadata": {
    "ExecuteTime": {
     "start_time": "2024-02-26T05:26:18.556Z"
    },
    "hidden": true
   },
   "outputs": [],
   "source": [
    "# Separamos la data\n",
    "tscv = TimeSeriesSplit(n_splits = 5)\n",
    "print(tscv)\n",
    "\n",
    "for i, (train_index, test_index) in enumerate(tscv.split(X_tt)):\n",
    "     print(f\"Fold {i}:\")\n",
    "     print(f\"  Train: index={train_index}\")\n",
    "     print(f\"  Test:  index={test_index}\")"
   ]
  },
  {
   "cell_type": "markdown",
   "id": "009f69e8",
   "metadata": {},
   "source": [
    "# Selección y extracción de características"
   ]
  },
  {
   "cell_type": "markdown",
   "id": "YQmhsQbYpbLE",
   "metadata": {
    "id": "YQmhsQbYpbLE"
   },
   "source": [
    "Utilizaremos Recursive Feature Elimination, para ir generando modelos y eliminar en cada iteración la variable que haya aportado menos. Esto nos permitirá ir paso a paso buscando evitar que cambie completamente la explicabilidad de los modelos al sustraer un gran número de variables"
   ]
  },
  {
   "cell_type": "code",
   "execution_count": null,
   "id": "f0fb8e7f",
   "metadata": {
    "ExecuteTime": {
     "start_time": "2024-02-26T05:26:18.559Z"
    }
   },
   "outputs": [],
   "source": [
    "# Definimos los números de variables con los que deseamos quedarnos, inicializamos y ejecutamos\n",
    "# Posteriormente se podrían probar diferentes números de variables\n",
    "obj_feats= 30\n",
    "\n",
    "rfe = RFE(estimator= RandomForestClassifier(random_state= 42, n_jobs= -1),\n",
    "         n_features_to_select= obj_feats)\n",
    "rfe.fit(X_tt, y_tt)"
   ]
  },
  {
   "cell_type": "code",
   "execution_count": null,
   "id": "efdaabb7",
   "metadata": {
    "ExecuteTime": {
     "start_time": "2024-02-26T05:26:18.560Z"
    },
    "scrolled": true
   },
   "outputs": [],
   "source": [
    "var_ranks = pd.DataFrame(rfe.ranking_, index= var_names, columns=['Rank'])\n",
    "var_ranks = var_ranks.sort_values(by='Rank')\n",
    "var_ranks.head(20)"
   ]
  },
  {
   "cell_type": "code",
   "execution_count": null,
   "id": "0caf8632",
   "metadata": {
    "ExecuteTime": {
     "start_time": "2024-02-26T05:26:18.562Z"
    }
   },
   "outputs": [],
   "source": [
    "# A continuación pondremos en una tabla la aportación al modelo de cada una de las variables seleccionadas\n",
    "selected_features = X_tt.columns[rfe.support_]\n",
    "feature_importances = rfe.estimator_.feature_importances_\n",
    "\n",
    "result_df = pd.DataFrame({\n",
    "    'Feature': selected_features,\n",
    "    'Ranking': feature_importances\n",
    "})\n",
    "\n",
    "result_df = result_df.sort_values(by='Ranking', ascending= False)\n",
    "result_df"
   ]
  },
  {
   "cell_type": "markdown",
   "id": "4a430bdb",
   "metadata": {},
   "source": [
    "Vamos a tirar del modelo todas las variables que no se encuentren en estas seleccionadas"
   ]
  },
  {
   "cell_type": "code",
   "execution_count": null,
   "id": "76ade3e5",
   "metadata": {
    "ExecuteTime": {
     "start_time": "2024-02-26T05:26:18.564Z"
    }
   },
   "outputs": [],
   "source": [
    "with warnings.catch_warnings():\n",
    "    warnings.simplefilter(\"ignore\")\n",
    "\n",
    "    for i in X_tt.columns:\n",
    "            if i not in selected_features:\n",
    "                X_tt.drop(i, axis= 1, inplace= True)\n",
    "\n",
    "    for i in X_test.columns:\n",
    "            if i not in selected_features:\n",
    "                X_test.drop(i, axis= 1, inplace= True)\n",
    "                \n",
    "    for i in X_val.columns:\n",
    "            if i not in selected_features:\n",
    "                X_val.drop(i, axis= 1, inplace= True)\n",
    "\n",
    "X_tt"
   ]
  },
  {
   "cell_type": "markdown",
   "id": "75c9c2da",
   "metadata": {
    "heading_collapsed": true,
    "id": "75c9c2da"
   },
   "source": [
    "#Conclusiones"
   ]
  },
  {
   "cell_type": "markdown",
   "id": "gaX0O3HPy361",
   "metadata": {
    "hidden": true,
    "id": "gaX0O3HPy361"
   },
   "source": [
    "General:\n",
    "\n",
    "En el proceso de desarrollo de nuestro modelo de predicción de valores bursátiles, aplicamos diversas técnicas de ingeniería y selección de características para elevar la calidad de nuestros datos y optimizar el desempeño del modelo.\n",
    "\n",
    "Características:\n",
    "\n",
    "La incorporación de nuevas variables, como la \"variación diaria\", el \"precio del día siguiente\" e \"información sobre tendencias durante varios días\", proporciona al modelo datos adicionales sobre la dinámica del mercado, facilitando la captura de patrones temporales y tendencias relevantes.\n",
    "\n",
    "Normalización:\n",
    "\n",
    "La normalización y estandarización de las características numéricas aseguran una contribución equitativa de todas las variables al modelo, evitando que las disparidades de escala impacten negativamente el rendimiento del algoritmo. En este contexto, aplicamos normalización al conjunto X.\n",
    "\n",
    "Umbral de Varianza:\n",
    "\n",
    "La eliminación de características con baja varianza, como en el caso de \"variación diaria\" para este conjunto de datos, contribuye a reducir el ruido en el modelo y focalizarse en aquellas características con variabilidad significativa, mejorando así la capacidad de generalización. Dado que la característica \"variación diaria\" presenta una media de crecimiento y decrecimiento, su aporte al modelo es limitado. Este caso particular destaca la importancia de reconocer que no todas las características que estamos incorporando son realmente útiles.\n",
    "\n",
    "Correlación:\n",
    "\n",
    "Suprimir características altamente correlacionadas disminuye la multicolinealidad, mejorando la interpretación del modelo y evitando redundancias que podrían impactar negativamente en el rendimiento del mismo.\n",
    "\n",
    "A pesar de la correlación existente entre \"Open\" y \"Close\", cada uno de estos valores proporciona información única acerca del comportamiento de una acción en una jornada específica. La diferencia entre el precio de cierre y el precio de apertura, conocida como variación diaria, representa una medida valiosa de la actividad del mercado a lo largo del día. Aunque existe una relación entre ambos precios, la variación diaria permite visualizar cómo se ha movido el precio durante la sesión. En el ámbito financiero, tanto el precio de apertura como el precio de cierre son elementos esenciales que inversores y analistas consideran con atención al tomar decisiones."
   ]
  },
  {
   "cell_type": "markdown",
   "id": "676f443b",
   "metadata": {
    "heading_collapsed": true,
    "id": "676f443b"
   },
   "source": [
    "# Baseline"
   ]
  },
  {
   "cell_type": "markdown",
   "id": "7a858ea5",
   "metadata": {
    "hidden": true,
    "id": "7a858ea5"
   },
   "source": [
    "Como primer paso para construir un modelo base, dividemos nuestra data en sets de entrenamiento y prueba. Al ser una serie de tiempo, lo que significa es que la división no puede ser aleatorio si no que la data de pruebas necesita ser posterior a la data de entrenamiento. Esto para replicar el caso de uso real y evitar \"leakage\", si se distribuyera de forma totalmente aleatoria nuestro modelo podría estarse entrenando con información futura la cual no debiera tener."
   ]
  },
  {
   "cell_type": "markdown",
   "id": "77ca123b",
   "metadata": {
    "hidden": true,
    "id": "77ca123b"
   },
   "source": [
    "Como modelo base estaremos utilizando un clasificador de bosques aleatorios, este modelo tiene una serie de ventajas sobre las que resalta su versatilidad para una amplia gama de tareas, su facilidad de implementar, los buenos resultados que brinda con sus parámetros por default, y otra razón muy especial es que nos puede permitir analizar la importancia de las variables lo cual nos permitirá una mejor selección de las mismas para futuros modelos.\n",
    "\n",
    "Dado que tenemos un problema de clasificación binaria, la métrica de accuracy será una buena medida sobre que tan correctas fueron las ocasiones en las que el modelo predijo que nos convenía comprar.\n",
    "\n",
    "Dado que es un problema de clasificación binaria, lo mínimo que debiéramos esperar es que supere el umbral del 50%, porque dicho score sería lo mismo a si eligiéramos una opción u otra completamente al azar."
   ]
  },
  {
   "cell_type": "code",
   "execution_count": null,
   "id": "9865be41",
   "metadata": {
    "ExecuteTime": {
     "start_time": "2024-02-26T05:26:18.569Z"
    },
    "colab": {
     "base_uri": "https://localhost:8080/",
     "height": 92
    },
    "hidden": true,
    "id": "9865be41",
    "outputId": "83eb6a2e-9b51-45ae-b7d6-f69ae08ff974"
   },
   "outputs": [],
   "source": [
    "# Creamos el modelo base y entrenamos\n",
    "rfc_model = RandomForestClassifier (n_estimators= 1000, min_samples_split= 10, random_state= 42, n_jobs=-1)\n",
    "rfc_score = cross_val_score(rfc_model,\n",
    "                           X_tt,\n",
    "                           y_tt,\n",
    "                           cv=tscv,\n",
    "                           scoring= 'accuracy')\n",
    "\n",
    "print(f'El accuracy de entrenamiento de cada fold son: {rfc_score}')\n",
    "print(f'El accuracy de entrenamiento promedio es: {rfc_score.mean()}')\n"
   ]
  },
  {
   "cell_type": "markdown",
   "id": "ceb287fd",
   "metadata": {
    "hidden": true
   },
   "source": [
    "Entrenamos el modelo y realizamos predicciones ahora sobre el conjunto de pruebas"
   ]
  },
  {
   "cell_type": "code",
   "execution_count": null,
   "id": "793d7150",
   "metadata": {
    "ExecuteTime": {
     "start_time": "2024-02-26T05:26:18.572Z"
    },
    "hidden": true
   },
   "outputs": [],
   "source": [
    "# Definiremos el treshold para decidir si es clase positiva o negativa\n",
    "treshold = 0.51\n",
    "\n",
    "# Entrenamiento sobre testing\n",
    "rfc_model.fit(X_tt,y_tt)\n",
    "\n",
    "# Predicciones sobre pruebas\n",
    "rfc_pred = (rfc_model.predict(X_test) > treshold).astype(int)\n",
    "\n",
    "# Mostramos resultados\n",
    "acc = accuracy_score(y_test, rfc_pred)\n",
    "print(f'Accuracy de pruebas: {acc:.4f}')\n",
    "\n",
    "cm = confusion_matrix(y_test, rfc_pred)\n",
    "\n",
    "ax= plt.subplot()\n",
    "sns.heatmap(cm, annot= True, fmt='g', ax=ax, cmap= 'Blues')\n",
    "\n",
    "ax.set_xlabel('Valor Predicción');ax.set_ylabel('Valor Actual'); \n",
    "ax.set_title('Matriz de Confusión'); \n",
    "ax.xaxis.set_ticklabels(['Bajó', 'Subió']); ax.yaxis.set_ticklabels(['Bajó', 'Subió']);\n"
   ]
  },
  {
   "cell_type": "markdown",
   "id": "c501a43c",
   "metadata": {
    "hidden": true,
    "id": "c501a43c"
   },
   "source": [
    "En la gráfica anterior podemos visualizar que donde hay mayor concentración de predicciones exitosas es precisamente en los verdaderos positivos, esto va de la mano con el resultado obtenido en la accuracy calculada\n",
    "\n",
    "Para revisar a mayor profundidad generaremos un reporte más completo de la clasificacion así como la gráfica de la curva roc que nosa permitirá ver mejor como se distribuyeron las predicciones en el espacio de la matriz de confusión."
   ]
  },
  {
   "cell_type": "code",
   "execution_count": null,
   "id": "3434cfe3",
   "metadata": {
    "ExecuteTime": {
     "start_time": "2024-02-26T05:26:18.574Z"
    },
    "colab": {
     "base_uri": "https://localhost:8080/",
     "height": 628
    },
    "hidden": true,
    "id": "3434cfe3",
    "outputId": "825e15c5-b2be-40de-fa5d-4d7bc820a4d7"
   },
   "outputs": [],
   "source": [
    "# Generar e imprimir reporte\n",
    "print(classification_report(y_test, rfc_pred))\n",
    "\n",
    "# Calculo de ROC y AUC\n",
    "fpr, tpr, thresholds = roc_curve(y_test, rfc_pred)\n",
    "roc_auc = auc(fpr, tpr)\n",
    "\n",
    "# Generar Gráfica\n",
    "plt.plot(fpr, tpr, color='darkorange', lw=2, label='ROC curve (AUC = {:.2f})'.format(roc_auc))\n",
    "plt.plot([0, 1], [0, 1], color='navy', lw=2, linestyle='--')\n",
    "plt.xlabel('Tasa de Falsos Positivos')\n",
    "plt.ylabel('Tasa Verdaeros Positivos')\n",
    "plt.title('Curva ROC')\n",
    "plt.legend()\n",
    "plt.show()"
   ]
  },
  {
   "cell_type": "markdown",
   "id": "2e17ae57",
   "metadata": {
    "hidden": true,
    "id": "2e17ae57"
   },
   "source": [
    "El modelo y la información anterior nos hacen ver que el modelo no se encuentra sub/sobreajustado, y en particular que sus scores sean tan cercanos al 50% de precisión nos hace visualizar que es un problema de clasificación intrínsicamente complejo.\n",
    "\n",
    "Para analizarlo más a detalle, validaremos la importancia individual de cada una de las variables para saber qué tanto están aportando al modelo"
   ]
  },
  {
   "cell_type": "markdown",
   "id": "35cab881",
   "metadata": {
    "id": "35cab881"
   },
   "source": [
    "# Modelos alternativos"
   ]
  },
  {
   "cell_type": "markdown",
   "id": "c5259e7d",
   "metadata": {},
   "source": [
    "Realizamos la prueba con 6 nuevos modelos"
   ]
  },
  {
   "cell_type": "code",
   "execution_count": null,
   "id": "e07ffd95",
   "metadata": {
    "ExecuteTime": {
     "start_time": "2024-02-26T05:26:18.577Z"
    }
   },
   "outputs": [],
   "source": [
    "def get_models():\n",
    "  modelos = list()\n",
    "  nombres = list()\n",
    "\n",
    "  # LR - Regresión Logística:\n",
    "  modelos.append(LogisticRegression(solver='liblinear'))\n",
    "  nombres.append('LR')\n",
    "\n",
    "  # DT - Árbol de Decisión:\n",
    "  modelos.append(DecisionTreeClassifier())\n",
    "  nombres.append('DT')\n",
    "  \n",
    "  # MLP - Red Neuronal Artificial / Perceptrón Lineal Multicapa:  \n",
    "  modelos.append(MLPClassifier(hidden_layer_sizes=(40,), max_iter=10000))\n",
    "  nombres.append('MLP')\n",
    "  \n",
    "  # SVM - Máquina de Vectores de Soporte:\n",
    "  modelos.append(SVC(gamma='scale'))\n",
    "  nombres.append('SVM')\n",
    "  \n",
    "  # GNB - Gaussian Naive Bayes:\n",
    "  modelos.append(GaussianNB())\n",
    "  nombres.append('GNB')\n",
    "\n",
    "  # GB - Gradient Boosting Classifier:\n",
    "  modelos.append(GradientBoostingClassifier())  \n",
    "  nombres.append('GB')\n",
    "  \n",
    "  return modelos, nombres"
   ]
  },
  {
   "cell_type": "code",
   "execution_count": null,
   "id": "67b72f2e",
   "metadata": {
    "ExecuteTime": {
     "start_time": "2024-02-26T05:26:18.580Z"
    }
   },
   "outputs": [],
   "source": [
    "modelos, nombres = get_models()  # cargamos los modelos a comparar\n",
    "resultados = list()   \n",
    "\n",
    "for i in range(len(modelos)):\n",
    "    pipeline = Pipeline(steps=[('m', modelos[i])])\n",
    "\n",
    "    #cv = RepeatedStratifiedKFold(n_splits=20, n_repeats=3, random_state=0)\n",
    "    scores = cross_val_score(pipeline, X_tt, y_tt, scoring='accuracy', cv=tscv)\n",
    "\n",
    "    resultados.append(scores)\n",
    "    print('>> %s: %.4f (%.4f)' % (nombres[i], np.mean(scores), np.std(scores)))\n"
   ]
  },
  {
   "cell_type": "markdown",
   "id": "b731d0d2",
   "metadata": {},
   "source": [
    "En general los resultados obtenidos no son buenos pero se puede observar que la Máquina de Vectores Soporte es el modelo que da los mejores resultados."
   ]
  },
  {
   "cell_type": "code",
   "execution_count": null,
   "id": "22f0b43a",
   "metadata": {
    "ExecuteTime": {
     "start_time": "2024-02-26T05:26:18.582Z"
    }
   },
   "outputs": [],
   "source": [
    "plt.boxplot(resultados, labels=nombres, showmeans=True)\n",
    "plt.show()"
   ]
  },
  {
   "cell_type": "markdown",
   "id": "e27724b9",
   "metadata": {},
   "source": [
    "Probamos más modelos, en este caso modelos de regresión logística."
   ]
  },
  {
   "cell_type": "code",
   "execution_count": null,
   "id": "47d14803",
   "metadata": {
    "ExecuteTime": {
     "start_time": "2024-02-26T05:26:18.585Z"
    }
   },
   "outputs": [],
   "source": [
    "def get_modelsRegs():\n",
    "  modelos, nombres = list(), list()\n",
    "\n",
    "  # Lasso:\n",
    "  modelos.append(LogisticRegression(penalty='l1', solver='liblinear', max_iter=2000, C=1., random_state=1))\n",
    "  nombres.append('LASSO')\n",
    "  \n",
    "  # Ridge:\n",
    "  modelos.append(LogisticRegression(penalty='l2', solver='liblinear', max_iter=2000, C=10.01, random_state=1))\n",
    "  nombres.append('RIDGE')\n",
    "  \n",
    "  # Elastic-Net:\n",
    "  modelos.append(LogisticRegression(penalty='elasticnet', l1_ratio=0.5, solver='saga', max_iter=4000, C=1., random_state=1))\n",
    "  nombres.append('EN')\n",
    "\n",
    "  return modelos, nombres"
   ]
  },
  {
   "cell_type": "code",
   "execution_count": null,
   "id": "0a78ef4d",
   "metadata": {
    "ExecuteTime": {
     "start_time": "2024-02-26T05:26:18.586Z"
    }
   },
   "outputs": [],
   "source": [
    "modelos, nombres = get_modelsRegs()\n",
    "resultados = list() \n",
    "\n",
    "for i in range(len(modelos)):\n",
    "\n",
    "  pipeline = Pipeline(steps=[('m', modelos[i])])\n",
    "\n",
    "  #cv = RepeatedStratifiedKFold(n_splits=10, n_repeats=5, random_state=8)\n",
    "  scores = cross_val_score(pipeline, X_tt, y_tt, scoring='accuracy', cv=tscv)\n",
    "\n",
    "  resultados.append(scores)\n",
    "  print('>> %s %.3f (%.3f)' % (nombres[i], np.mean(scores), np.std(scores)))\n",
    "\n",
    "\n",
    "plt.boxplot(resultados, labels=nombres, showmeans=True)\n",
    "plt.show()"
   ]
  },
  {
   "cell_type": "markdown",
   "id": "c6eedf5c",
   "metadata": {},
   "source": [
    "Probamos con un modelo de red neuronal para regresión. Este modelo utiliza una arquitectura básica de red neuronal feedforward con capas densas, activaciones ReLU y técnicas de regularización Dropout."
   ]
  },
  {
   "cell_type": "code",
   "execution_count": null,
   "id": "bef5ee31",
   "metadata": {
    "ExecuteTime": {
     "start_time": "2024-02-26T05:26:18.589Z"
    },
    "scrolled": true
   },
   "outputs": [],
   "source": [
    "# Definir el modelo\n",
    "rnn_model = Sequential([\n",
    "    Dense(64, activation='relu', input_shape=(X_tt.shape[1],)),\n",
    "    Dropout(0.4),\n",
    "    Dense(128, activation='relu'),\n",
    "    Dropout(0.4),\n",
    "    Dense(32, activation='relu'),\n",
    "    Dropout(0.4),\n",
    "    Dense(1, activation='sigmoid')  # Capa de salida\n",
    "])\n",
    "\n",
    "# Compilar el modelo\n",
    "rnn_model.compile(optimizer=Adam(learning_rate= 0.0005), loss='BinaryCrossentropy', metrics = [\"accuracy\"])\n",
    "\n",
    "# Entrenar el modelo\n",
    "rnn_model.fit(X_tt, y_tt, epochs=200, batch_size=32, validation_split=0.1)\n",
    "\n",
    "\n",
    "# Predicciones sobre pruebas\n",
    "rnn_pred = (rnn_model.predict(X_test) > treshold).astype(int)\n",
    "\n",
    "# Mostramos resultados\n",
    "acc = accuracy_score(y_test, rnn_pred)\n",
    "print(\" \")\n",
    "print(f'Accuracy de pruebas: {acc:.4f}')\n",
    "\n",
    "cm = confusion_matrix(y_test, rnn_pred)\n",
    "\n",
    "ax= plt.subplot()\n",
    "sns.heatmap(cm, annot= True, fmt='g', ax=ax, cmap= 'Blues')\n",
    "\n",
    "ax.set_xlabel('Valor Predicción');ax.set_ylabel('Valor Actual'); \n",
    "ax.set_title('Matriz de Confusión'); \n",
    "ax.xaxis.set_ticklabels(['Bajó', 'Subió']); ax.yaxis.set_ticklabels(['Bajó', 'Subió']);"
   ]
  },
  {
   "cell_type": "code",
   "execution_count": null,
   "id": "69ed4d98",
   "metadata": {
    "ExecuteTime": {
     "start_time": "2024-02-26T05:26:18.591Z"
    }
   },
   "outputs": [],
   "source": [
    "# Generar e imprimir reporte\n",
    "print(classification_report(y_test, rnn_pred))\n",
    "\n",
    "# Calculo de ROC y AUC\n",
    "fpr, tpr, thresholds = roc_curve(y_test, rnn_pred)\n",
    "roc_auc = auc(fpr, tpr)\n",
    "\n",
    "# Generar Gráfica\n",
    "plt.plot(fpr, tpr, color='darkorange', lw=2, label='ROC curve (AUC = {:.2f})'.format(roc_auc))\n",
    "plt.plot([0, 1], [0, 1], color='navy', lw=2, linestyle='--')\n",
    "plt.xlabel('Tasa de Falsos Positivos')\n",
    "plt.ylabel('Tasa Verdaeros Positivos')\n",
    "plt.title('Curva ROC')\n",
    "plt.legend()\n",
    "plt.show()"
   ]
  },
  {
   "cell_type": "markdown",
   "id": "d116c4ad",
   "metadata": {},
   "source": [
    "En este caso, LASSO y Máquina de Vectores de Soporte nos dan los mejores resultados."
   ]
  },
  {
   "cell_type": "markdown",
   "id": "a3378721",
   "metadata": {},
   "source": [
    "Probaremos mejorar el resultado."
   ]
  },
  {
   "cell_type": "code",
   "execution_count": null,
   "id": "a37b8abf",
   "metadata": {
    "ExecuteTime": {
     "start_time": "2024-02-26T05:26:18.594Z"
    }
   },
   "outputs": [],
   "source": [
    "# LASSO - métrica L1:\n",
    "modelo = LogisticRegression(penalty='l1', max_iter=10000, random_state=1)\n",
    "\n",
    "dicc_grid = {'C':[0.0001,0.01,0.1,1.0,10.,100.],\n",
    "             'solver':['liblinear']\n",
    "             }\n",
    "\n",
    "#cv = RepeatedStratifiedKFold(n_splits=10, n_repeats=5, random_state=8)\n",
    "\n",
    "grid = GridSearchCV(estimator=modelo, \n",
    "                    param_grid=dicc_grid, \n",
    "                    cv=tscv, \n",
    "                    scoring='accuracy')\n",
    "\n",
    "grid.fit(X_tt, y_tt)\n",
    "\n",
    "print('Mejor valor de exactitud obtenido con la mejor combinación:', grid.best_score_)\n",
    "print('Mejor combinación de valores encontrados de los hiperparámetros:', grid.best_params_)\n",
    "print('Métrica utilizada:', grid.scoring)"
   ]
  },
  {
   "cell_type": "markdown",
   "id": "b423d197",
   "metadata": {},
   "source": [
    "El resultado no mejoró. Ahora intentamos mejorar el resultado de la Máquina de Vectores de Soporte."
   ]
  },
  {
   "cell_type": "code",
   "execution_count": null,
   "id": "509c32e8",
   "metadata": {
    "ExecuteTime": {
     "start_time": "2024-02-26T05:26:18.596Z"
    }
   },
   "outputs": [],
   "source": [
    "# Define el espacio de búsqueda de hiperparámetros\n",
    "dicc_grid = {'C': [0.01, 0.1, 1, 10, 100],\n",
    "              'gamma': [0.0001, 0.001, 0.01, 0.1, 1, 10]}\n",
    "\n",
    "modelo = SVC()\n",
    "\n",
    "grid = GridSearchCV(estimator=modelo, param_grid=dicc_grid, cv=tscv)\n",
    "grid.fit(X_tt, y_tt)\n",
    "\n",
    "print('Mejor valor de exactitud obtenido con la mejor combinación:', grid.best_score_)\n",
    "print('Mejor combinación de valores encontrados de los hiperparámetros:', grid.best_params_)"
   ]
  },
  {
   "cell_type": "markdown",
   "id": "19b9df2e",
   "metadata": {},
   "source": [
    "Ambos modelos nos dan el mismo resultado, podrímamos elegir cuelquiera de los dos como ganador sin embargo, es muy probable que se necesite un revisión de datos."
   ]
  },
  {
   "cell_type": "markdown",
   "id": "df97ed1c",
   "metadata": {},
   "source": [
    "A continuación exploraremos el uso de una LSTM"
   ]
  },
  {
   "cell_type": "code",
   "execution_count": null,
   "id": "80b43f28",
   "metadata": {
    "ExecuteTime": {
     "start_time": "2024-02-26T05:26:18.599Z"
    }
   },
   "outputs": [],
   "source": [
    "# Definimos el largo de las sequencias y \"memoria\" que deseamos tener\n",
    "sequence_length = 20\n",
    "\n",
    "# Generamos una función que genera los arreglos con las secuencias necesarias para la LSTM\n",
    "def create_sequences(X, y, sequence_length):\n",
    "    sequences, labels = [], []\n",
    "    for i in range(len(X) - sequence_length):\n",
    "        seq = X[i:i+sequence_length]\n",
    "        label = y[i+sequence_length-1:i+sequence_length]\n",
    "        sequences.append(seq)\n",
    "        labels.append(label)\n",
    "    return np.array(sequences), np.array(labels).ravel()\n",
    "\n",
    "# Creamos las X con sus respectivas secuencias\n",
    "X_tt_lstm, y_tt_lstm = create_sequences(X_tt, y_tt, sequence_length)\n",
    "X_test_lstm, y_test_lstm = create_sequences(X_test, y_test, sequence_length)\n",
    "\n",
    "# Ajustamos y_test para eliminar los primeros n registros, resultado de la sequencia de memoria\n",
    "y_test_lstm = y_test[sequence_length:]\n",
    "\n",
    "X_tt_lstm.shape"
   ]
  },
  {
   "cell_type": "code",
   "execution_count": null,
   "id": "7978182d",
   "metadata": {
    "ExecuteTime": {
     "start_time": "2024-02-26T05:26:18.601Z"
    },
    "scrolled": true
   },
   "outputs": [],
   "source": [
    "# Definimos nuestra LSTM\n",
    "lstm_model = Sequential([\n",
    "    LSTM(64, return_sequences=True, input_shape=(X_tt_lstm.shape[1], X_tt_lstm.shape[2])),\n",
    "    Dropout(0.4),\n",
    "    LSTM(64, return_sequences=True),\n",
    "    Dropout(0.4),\n",
    "    LSTM(32),\n",
    "    Dropout(0.4),\n",
    "    Dense(1, activation= 'sigmoid')  # Capa de salida \n",
    "])\n",
    "\n",
    "lstm_model.compile(optimizer= Adam(learning_rate= 0.0005), \n",
    "              loss='BinaryCrossentropy',\n",
    "              metrics = [\"accuracy\"])\n",
    "\n",
    "# Entrenar el modelo\n",
    "lstm_model.fit(X_tt_lstm, y_tt_lstm, epochs= 200, batch_size= 32, validation_split=0.1)\n",
    "\n",
    "# Predicciones sobre pruebas\n",
    "lstm_pred = (lstm_model.predict(X_test_lstm) > treshold).astype(int)\n",
    "\n",
    "# Mostramos resultados\n",
    "acc = accuracy_score(y_test_lstm, lstm_pred)\n",
    "print(\" \")\n",
    "print(f'Accuracy de pruebas: {acc:.4f}')\n",
    "\n",
    "cm = confusion_matrix(y_test_lstm, lstm_pred)\n",
    "\n",
    "ax= plt.subplot()\n",
    "sns.heatmap(cm, annot= True, fmt='g', ax=ax, cmap= 'Blues')\n",
    "\n",
    "ax.set_xlabel('Valor Predicción');ax.set_ylabel('Valor Actual'); \n",
    "ax.set_title('Matriz de Confusión'); \n",
    "ax.xaxis.set_ticklabels(['Bajó', 'Subió']); ax.yaxis.set_ticklabels(['Bajó', 'Subió']);"
   ]
  },
  {
   "cell_type": "code",
   "execution_count": null,
   "id": "f57fe59a",
   "metadata": {
    "ExecuteTime": {
     "start_time": "2024-02-26T05:26:18.602Z"
    }
   },
   "outputs": [],
   "source": [
    "# Generar e imprimir reporte\n",
    "print(classification_report(y_test_lstm, lstm_pred))\n",
    "\n",
    "# Calculo de ROC y AUC\n",
    "fpr, tpr, thresholds = roc_curve(y_test_lstm, lstm_pred)\n",
    "roc_auc = auc(fpr, tpr)\n",
    "\n",
    "# Generar Gráfica\n",
    "plt.plot(fpr, tpr, color='darkorange', lw=2, label='ROC curve (AUC = {:.2f})'.format(roc_auc))\n",
    "plt.plot([0, 1], [0, 1], color='navy', lw=2, linestyle='--')\n",
    "plt.xlabel('Tasa de Falsos Positivos')\n",
    "plt.ylabel('Tasa Verdaeros Positivos')\n",
    "plt.title('Curva ROC')\n",
    "plt.legend()\n",
    "plt.show()"
   ]
  },
  {
   "cell_type": "markdown",
   "id": "16d0a313",
   "metadata": {},
   "source": [
    "# Ensemble model"
   ]
  },
  {
   "cell_type": "code",
   "execution_count": null,
   "id": "755f7c7e",
   "metadata": {
    "ExecuteTime": {
     "start_time": "2024-02-26T05:26:18.605Z"
    }
   },
   "outputs": [],
   "source": [
    "# Ajustamos las predicciones para quitar los primeros 10 valores y estar alineados con LSTM\n",
    "rfc_pred = rfc_pred[sequence_length:]\n",
    "rnn_pred = rnn_pred[sequence_length:]"
   ]
  },
  {
   "cell_type": "code",
   "execution_count": null,
   "id": "0787ddd9",
   "metadata": {
    "ExecuteTime": {
     "start_time": "2024-02-26T05:26:18.607Z"
    }
   },
   "outputs": [],
   "source": [
    "# Armamos dataframe con los valores\n",
    "ensemble_pred = pd.DataFrame({\n",
    "    'RFC': rfc_pred,\n",
    "    'RNN': rnn_pred.ravel(),\n",
    "    'LSTM': lstm_pred.ravel()\n",
    "})\n",
    "\n",
    "\n",
    "ensemble_pred[\"Vote\"] = ((ensemble_pred.cumsum(axis=1).iloc[:, -1]) >= 2).astype(int)\n",
    "ensemble_pred\n",
    "\n"
   ]
  },
  {
   "cell_type": "code",
   "execution_count": null,
   "id": "855b42c8",
   "metadata": {
    "ExecuteTime": {
     "start_time": "2024-02-26T05:26:18.609Z"
    }
   },
   "outputs": [],
   "source": [
    "# Mostramos resultados\n",
    "acc = accuracy_score(y_test_lstm, ensemble_pred[\"Vote\"].ravel())\n",
    "print(\" \")\n",
    "print(f'Accuracy de pruebas: {acc:.4f}')\n",
    "\n",
    "cm = confusion_matrix(y_test_lstm, ensemble_pred[\"Vote\"].ravel())\n",
    "\n",
    "ax= plt.subplot()\n",
    "sns.heatmap(cm, annot= True, fmt='g', ax=ax, cmap= 'Blues')\n",
    "\n",
    "ax.set_xlabel('Valor Predicción');ax.set_ylabel('Valor Actual'); \n",
    "ax.set_title('Matriz de Confusión'); \n",
    "ax.xaxis.set_ticklabels(['Bajó', 'Subió']); ax.yaxis.set_ticklabels(['Bajó', 'Subió']);"
   ]
  },
  {
   "cell_type": "code",
   "execution_count": null,
   "id": "b086bc30",
   "metadata": {},
   "outputs": [],
   "source": []
  }
 ],
 "metadata": {
  "colab": {
   "provenance": []
  },
  "kernelspec": {
   "display_name": "Python 3 (ipykernel)",
   "language": "python",
   "name": "python3"
  },
  "language_info": {
   "codemirror_mode": {
    "name": "ipython",
    "version": 3
   },
   "file_extension": ".py",
   "mimetype": "text/x-python",
   "name": "python",
   "nbconvert_exporter": "python",
   "pygments_lexer": "ipython3",
   "version": "3.9.16"
  },
  "varInspector": {
   "cols": {
    "lenName": 16,
    "lenType": 16,
    "lenVar": 40
   },
   "kernels_config": {
    "python": {
     "delete_cmd_postfix": "",
     "delete_cmd_prefix": "del ",
     "library": "var_list.py",
     "varRefreshCmd": "print(var_dic_list())"
    },
    "r": {
     "delete_cmd_postfix": ") ",
     "delete_cmd_prefix": "rm(",
     "library": "var_list.r",
     "varRefreshCmd": "cat(var_dic_list()) "
    }
   },
   "types_to_exclude": [
    "module",
    "function",
    "builtin_function_or_method",
    "instance",
    "_Feature"
   ],
   "window_display": false
  }
 },
 "nbformat": 4,
 "nbformat_minor": 5
}
